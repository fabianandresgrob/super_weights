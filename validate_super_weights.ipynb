{
 "cells": [
  {
   "cell_type": "code",
   "execution_count": null,
   "metadata": {},
   "outputs": [],
   "source": [
    "%load_ext autoreload\n",
    "%autoreload 2"
   ]
  },
  {
   "cell_type": "markdown",
   "metadata": {},
   "source": [
    "# Super Weights Analysis - Identifying Super Weights and their Impact on Model Performance"
   ]
  },
  {
   "cell_type": "code",
   "execution_count": null,
   "metadata": {},
   "outputs": [],
   "source": [
    "from research.researcher import SuperWeightResearchSession\n",
    "import torch"
   ]
  },
  {
   "cell_type": "code",
   "execution_count": 4,
   "metadata": {},
   "outputs": [],
   "source": [
    "model_name = 'allenai/OLMo-1B-0724-hf'"
   ]
  },
  {
   "cell_type": "code",
   "execution_count": 5,
   "metadata": {},
   "outputs": [
    {
     "name": "stderr",
     "output_type": "stream",
     "text": [
      "/Users/fabiangrob/miniforge3/envs/super-weights/lib/python3.10/site-packages/torchvision/io/image.py:14: UserWarning: Failed to load image Python extension: 'dlopen(/Users/fabiangrob/miniforge3/envs/super-weights/lib/python3.10/site-packages/torchvision/image.so, 0x0006): Library not loaded: @rpath/libjpeg.9.dylib\n",
      "  Referenced from: <0B7EB158-53DC-3403-8A49-22178CAB4612> /Users/fabiangrob/miniforge3/envs/super-weights/lib/python3.10/site-packages/torchvision/image.so\n",
      "  Reason: tried: '/Users/fabiangrob/miniforge3/envs/super-weights/lib/python3.10/site-packages/torchvision/../../../libjpeg.9.dylib' (no such file), '/Users/fabiangrob/miniforge3/envs/super-weights/lib/python3.10/site-packages/torchvision/../../../libjpeg.9.dylib' (no such file), '/Users/fabiangrob/miniforge3/envs/super-weights/lib/python3.10/lib-dynload/../../libjpeg.9.dylib' (no such file), '/Users/fabiangrob/miniforge3/envs/super-weights/bin/../lib/libjpeg.9.dylib' (no such file)'If you don't plan on using image functionality from `torchvision.io`, you can ignore this warning. Otherwise, there might be something wrong with your environment. Did you have `libjpeg` or `libpng` installed before building `torchvision` from source?\n",
      "  warn(\n"
     ]
    },
    {
     "data": {
      "application/vnd.jupyter.widget-view+json": {
       "model_id": "341ecd565c4c4cb380a75fd5ec9567c0",
       "version_major": 2,
       "version_minor": 0
      },
      "text/plain": [
       "Loading checkpoint shards:   0%|          | 0/2 [00:00<?, ?it/s]"
      ]
     },
     "metadata": {},
     "output_type": "display_data"
    },
    {
     "name": "stderr",
     "output_type": "stream",
     "text": [
      "2025-06-26 01:36:39,071 - SuperWeightDetector_13509139552 - INFO - SuperWeightDetector initialized for allenai-OLMo-1B-0724-hf\n",
      "2025-06-26 01:36:39,071 - SuperWeightDetector_13509139552 - INFO - Model has 16 layers\n",
      "2025-06-26 01:36:39,071 - SuperWeightResearch_4587844080 - INFO - Detected standard transformer architecture\n",
      "2025-06-26 01:36:39,072 - SuperWeightDetector_13509140896 - INFO - SuperWeightDetector initialized for allenai-OLMo-1B-0724-hf\n",
      "2025-06-26 01:36:39,072 - SuperWeightDetector_13509140896 - INFO - Model has 16 layers\n",
      "2025-06-26 01:36:39,073 - SuperWeightResearch_4587844080 - INFO - SuperWeightResearchSession initialized\n",
      "2025-06-26 01:36:39,073 - SuperWeightResearch_4587844080 - INFO - Using detector: SuperWeightDetector\n",
      "2025-06-26 01:36:39,071 - SuperWeightDetector_13509139552 - INFO - Model has 16 layers\n",
      "2025-06-26 01:36:39,071 - SuperWeightResearch_4587844080 - INFO - Detected standard transformer architecture\n",
      "2025-06-26 01:36:39,072 - SuperWeightDetector_13509140896 - INFO - SuperWeightDetector initialized for allenai-OLMo-1B-0724-hf\n",
      "2025-06-26 01:36:39,072 - SuperWeightDetector_13509140896 - INFO - Model has 16 layers\n",
      "2025-06-26 01:36:39,073 - SuperWeightResearch_4587844080 - INFO - SuperWeightResearchSession initialized\n",
      "2025-06-26 01:36:39,073 - SuperWeightResearch_4587844080 - INFO - Using detector: SuperWeightDetector\n"
     ]
    }
   ],
   "source": [
    "session = SuperWeightResearchSession.from_model_name(model_name)"
   ]
  },
  {
   "cell_type": "code",
   "execution_count": 6,
   "metadata": {},
   "outputs": [
    {
     "name": "stderr",
     "output_type": "stream",
     "text": [
      "2025-06-26 01:36:40,898 - SuperWeightResearch_4587844080 - INFO - Starting super weight detection\n",
      "2025-06-26 01:36:40,898 - SuperWeightDetector_13509140896 - INFO - Starting super weight detection\n",
      "2025-06-26 01:36:40,898 - SuperWeightDetector_13509140896 - INFO - Parameters: threshold=70.0, max_iterations=10\n",
      "2025-06-26 01:36:40,903 - SuperWeightDetector_13509140896 - INFO - === Iteration 1 ===\n",
      "2025-06-26 01:36:40,898 - SuperWeightDetector_13509140896 - INFO - Starting super weight detection\n",
      "2025-06-26 01:36:40,898 - SuperWeightDetector_13509140896 - INFO - Parameters: threshold=70.0, max_iterations=10\n",
      "2025-06-26 01:36:40,903 - SuperWeightDetector_13509140896 - INFO - === Iteration 1 ===\n",
      "2025-06-26 01:36:41,254 - SuperWeightDetector_13509140896 - INFO - Found 2 potential super weights in iteration 1\n",
      "2025-06-26 01:36:41,254 - SuperWeightDetector_13509140896 - INFO - Found 2 new super weights:\n",
      "2025-06-26 01:36:41,255 - SuperWeightDetector_13509140896 - INFO -   1. Layer 1 mlp.down_proj.weight[1764, 1710] - Input: -401.50, Output: -262.00\n",
      "2025-06-26 01:36:41,255 - SuperWeightDetector_13509140896 - INFO -   2. Layer 15 mlp.down_proj.weight[1764, 6840] - Input: -283.00, Output: 415.00\n",
      "2025-06-26 01:36:41,255 - SuperWeightDetector_13509140896 - INFO - === Iteration 2 ===\n",
      "2025-06-26 01:36:41,254 - SuperWeightDetector_13509140896 - INFO - Found 2 potential super weights in iteration 1\n",
      "2025-06-26 01:36:41,254 - SuperWeightDetector_13509140896 - INFO - Found 2 new super weights:\n",
      "2025-06-26 01:36:41,255 - SuperWeightDetector_13509140896 - INFO -   1. Layer 1 mlp.down_proj.weight[1764, 1710] - Input: -401.50, Output: -262.00\n",
      "2025-06-26 01:36:41,255 - SuperWeightDetector_13509140896 - INFO -   2. Layer 15 mlp.down_proj.weight[1764, 6840] - Input: -283.00, Output: 415.00\n",
      "2025-06-26 01:36:41,255 - SuperWeightDetector_13509140896 - INFO - === Iteration 2 ===\n",
      "2025-06-26 01:36:41,418 - SuperWeightDetector_13509140896 - INFO - Found 2 potential super weights in iteration 2\n",
      "2025-06-26 01:36:41,418 - SuperWeightDetector_13509140896 - INFO - No new super weights found. Stopping detection.\n",
      "2025-06-26 01:36:41,419 - SuperWeightDetector_13509140896 - INFO - === DETECTION COMPLETE ===\n",
      "2025-06-26 01:36:41,419 - SuperWeightDetector_13509140896 - INFO - Found 2 super weights:\n",
      "2025-06-26 01:36:41,419 - SuperWeightDetector_13509140896 - INFO - 1. Layer 1 mlp.down_proj.weight[1764, 1710] (Iteration 1)\n",
      "2025-06-26 01:36:41,420 - SuperWeightDetector_13509140896 - INFO -    Input: -401.50, Output: -262.00\n",
      "2025-06-26 01:36:41,420 - SuperWeightDetector_13509140896 - INFO - 2. Layer 15 mlp.down_proj.weight[1764, 6840] (Iteration 1)\n",
      "2025-06-26 01:36:41,420 - SuperWeightDetector_13509140896 - INFO -    Input: -283.00, Output: 415.00\n",
      "2025-06-26 01:36:41,421 - SuperWeightDetector_13509140896 - INFO - Super weights found in 2 layers:\n",
      "2025-06-26 01:36:41,421 - SuperWeightDetector_13509140896 - INFO -   Layer 1: 1 super weights\n",
      "2025-06-26 01:36:41,422 - SuperWeightDetector_13509140896 - INFO -   Layer 15: 1 super weights\n",
      "2025-06-26 01:36:41,422 - SuperWeightResearch_4587844080 - INFO - Detection complete. Found 2 super weights\n",
      "2025-06-26 01:36:41,418 - SuperWeightDetector_13509140896 - INFO - Found 2 potential super weights in iteration 2\n",
      "2025-06-26 01:36:41,418 - SuperWeightDetector_13509140896 - INFO - No new super weights found. Stopping detection.\n",
      "2025-06-26 01:36:41,419 - SuperWeightDetector_13509140896 - INFO - === DETECTION COMPLETE ===\n",
      "2025-06-26 01:36:41,419 - SuperWeightDetector_13509140896 - INFO - Found 2 super weights:\n",
      "2025-06-26 01:36:41,419 - SuperWeightDetector_13509140896 - INFO - 1. Layer 1 mlp.down_proj.weight[1764, 1710] (Iteration 1)\n",
      "2025-06-26 01:36:41,420 - SuperWeightDetector_13509140896 - INFO -    Input: -401.50, Output: -262.00\n",
      "2025-06-26 01:36:41,420 - SuperWeightDetector_13509140896 - INFO - 2. Layer 15 mlp.down_proj.weight[1764, 6840] (Iteration 1)\n",
      "2025-06-26 01:36:41,420 - SuperWeightDetector_13509140896 - INFO -    Input: -283.00, Output: 415.00\n",
      "2025-06-26 01:36:41,421 - SuperWeightDetector_13509140896 - INFO - Super weights found in 2 layers:\n",
      "2025-06-26 01:36:41,421 - SuperWeightDetector_13509140896 - INFO -   Layer 1: 1 super weights\n",
      "2025-06-26 01:36:41,422 - SuperWeightDetector_13509140896 - INFO -   Layer 15: 1 super weights\n",
      "2025-06-26 01:36:41,422 - SuperWeightResearch_4587844080 - INFO - Detection complete. Found 2 super weights\n"
     ]
    }
   ],
   "source": [
    "sw = session.detect_super_weights(spike_threshold=70.0)"
   ]
  },
  {
   "cell_type": "code",
   "execution_count": 7,
   "metadata": {},
   "outputs": [
    {
     "data": {
      "text/plain": [
       "[SuperWeight(layer=1, coords=[1764, 1710], input=-401.50, output=-262.00),\n",
       " SuperWeight(layer=15, coords=[1764, 6840], input=-283.00, output=415.00)]"
      ]
     },
     "execution_count": 7,
     "metadata": {},
     "output_type": "execute_result"
    }
   ],
   "source": [
    "sw"
   ]
  },
  {
   "cell_type": "markdown",
   "metadata": {},
   "source": [
    "## Vocabulary analysis"
   ]
  },
  {
   "cell_type": "code",
   "execution_count": 18,
   "metadata": {},
   "outputs": [],
   "source": [
    "sophisticated_sw = sw[0]"
   ]
  },
  {
   "cell_type": "code",
   "execution_count": 9,
   "metadata": {},
   "outputs": [
    {
     "name": "stderr",
     "output_type": "stream",
     "text": [
      "huggingface/tokenizers: The current process just got forked, after parallelism has already been used. Disabling parallelism to avoid deadlocks...\n",
      "To disable this warning, you can either:\n",
      "\t- Avoid using `tokenizers` before the fork if possible\n",
      "\t- Explicitly set the environment variable TOKENIZERS_PARALLELISM=(true | false)\n",
      "2025-06-25 13:33:48,681 - SuperWeightManager_13627786576 - INFO - Successfully scaled 1/1 super weights by 0.000\n",
      "2025-06-25 13:34:13,472 - SuperWeightManager_13627786576 - INFO - Restored 1/1 weights\n"
     ]
    }
   ],
   "source": [
    "vocab_analysis = session.analyzer.vocabulary_analyzer.analyze_vocabulary_effects(sophisticated_sw, n_samples=500)"
   ]
  },
  {
   "cell_type": "code",
   "execution_count": 10,
   "metadata": {},
   "outputs": [
    {
     "name": "stdout",
     "output_type": "stream",
     "text": [
      "\n",
      "=== Vocabulary Analysis: Layer 1 mlp.down_proj.weight[1764, 1710] ===\n",
      "\n",
      "Effect Statistics:\n",
      "  Mean: -0.0568\n",
      "  Std: 1.0967\n",
      "  Kurtosis: 0.4625\n",
      "  Skew: 0.6961\n",
      "  Significant effects: 17426\n",
      "\n",
      "Classification:\n",
      "  Type: PARTITION\n",
      "  Description: Affects broad token classes (boost some, suppress others)\n",
      "  Confidence: 0.30\n",
      "\n",
      "Top 50 Boosted Tokens:\n",
      "   1. ' Ac'                (effect: +4.562)\n",
      "   2. ' Three'             (effect: +4.535)\n",
      "   3. ' Question'          (effect: +4.473)\n",
      "   4. ' Two'               (effect: +4.406)\n",
      "   5. ' Ind'               (effect: +4.395)\n",
      "   6. ' Du'                (effect: +4.379)\n",
      "   7. ' Witt'              (effect: +4.254)\n",
      "   8. ' Dro'               (effect: +4.246)\n",
      "   9. ' In'                (effect: +4.223)\n",
      "  10. ' Private'           (effect: +4.211)\n",
      "  11. ' Wat'               (effect: +4.191)\n",
      "  12. ' Options'           (effect: +4.184)\n",
      "  13. ' Tri'               (effect: +4.172)\n",
      "  14. ' Modern'            (effect: +4.164)\n",
      "  15. ' Models'            (effect: +4.145)\n",
      "  16. ' Spec'              (effect: +4.113)\n",
      "  17. ' Given'             (effect: +4.102)\n",
      "  18. ' Ran'               (effect: +4.098)\n",
      "  19. ' Four'              (effect: +4.094)\n",
      "  20. ' Dup'               (effect: +4.082)\n",
      "\n",
      "Top 50 Suppressed Tokens:\n",
      "   1. ' fracture'          (effect: -3.498)\n",
      "   2. ' fibre'             (effect: -3.385)\n",
      "   3. 'f'                  (effect: -3.303)\n",
      "   4. 'y'                  (effect: -3.299)\n",
      "   5. ' vibration'         (effect: -3.293)\n",
      "   6. 'exc'                (effect: -3.254)\n",
      "   7. 'g'                  (effect: -3.240)\n",
      "   8. ' universe'          (effect: -3.207)\n",
      "   9. 'every'              (effect: -3.201)\n",
      "  10. ' glucose'           (effect: -3.191)\n",
      "  11. 'science'            (effect: -3.180)\n",
      "  12. 'kov'                (effect: -3.174)\n",
      "  13. ' extremity'         (effect: -3.172)\n",
      "  14. ' resist'            (effect: -3.152)\n",
      "  15. ' science'           (effect: -3.139)\n",
      "  16. ' radiation'         (effect: -3.129)\n",
      "  17. ' ore'               (effect: -3.113)\n",
      "  18. 'h'                  (effect: -3.104)\n",
      "  19. ' exercise'          (effect: -3.076)\n",
      "  20. 'orie'               (effect: -3.047)\n",
      "\n",
      "Detected Patterns:\n",
      "  YEARS: 154 tokens\n",
      "    Examples: ' 2000', ' 1920', ' 1933'\n",
      "  PUNCTUATION: 351 tokens\n",
      "    Examples: '...\"', '...', '...,'\n",
      "  FUNCTION_WORDS: 36 tokens\n",
      "    Examples: ' In', ' The', ' To'\n",
      "  NUMBERS: 348 tokens\n",
      "    Examples: ' 160', ' 200', ' 120'\n",
      "  CAPITALIZED: 6914 tokens\n",
      "    Examples: ' Ac', ' Three', ' Question'\n",
      "  SPACE_PREFIXED: 5066 tokens\n",
      "    Examples: ' fracture', ' also', ' fibre'\n",
      "  SOPHISTICATED_WORDS: 1 tokens\n",
      "    Examples: 'changing'\n",
      "  FRAGMENTS: 1218 tokens\n",
      "    Examples: 'f', 'y', 'exc'\n"
     ]
    }
   ],
   "source": [
    "session.analyzer.vocabulary_analyzer.display_analysis_results(vocab_analysis, top_k=50)"
   ]
  },
  {
   "cell_type": "code",
   "execution_count": 11,
   "metadata": {},
   "outputs": [],
   "source": [
    "# analyze w_u @ w_out, full neuron with super weight\n",
    "neuron_analysis = session.analyzer.vocabulary_analyzer.analyze_neuron_vocabulary_effects(sophisticated_sw)"
   ]
  },
  {
   "cell_type": "code",
   "execution_count": 12,
   "metadata": {},
   "outputs": [
    {
     "name": "stdout",
     "output_type": "stream",
     "text": [
      "\n",
      "=== Vocabulary Analysis: Layer 1 mlp.down_proj.weight[1764, 1710] ===\n",
      "\n",
      "Effect Statistics:\n",
      "  Mean: -0.0002\n",
      "  Std: 0.0067\n",
      "  Kurtosis: -3.0000\n",
      "  Skew: 0.1986\n",
      "  Significant effects: 0\n",
      "\n",
      "Classification:\n",
      "  Type: UNCLEAR\n",
      "  Description: Effects too small or distributed to classify clearly\n",
      "  Confidence: 0.30\n",
      "\n",
      "Top 20 Boosted Tokens:\n",
      "   1. ' �'                 (effect: +0.038)\n",
      "   2. ' vet'               (effect: +0.031)\n",
      "   3. ' stir'              (effect: +0.031)\n",
      "   4. ' appeal'            (effect: +0.031)\n",
      "   5. ' appro'             (effect: +0.031)\n",
      "   6. ' comm'              (effect: +0.031)\n",
      "   7. ' Polish'            (effect: +0.030)\n",
      "   8. ' plac'              (effect: +0.030)\n",
      "   9. ' bro'               (effect: +0.029)\n",
      "  10. ' MOT'               (effect: +0.029)\n",
      "  11. ' aid'               (effect: +0.029)\n",
      "  12. ' fully'             (effect: +0.028)\n",
      "  13. ' mac'               (effect: +0.028)\n",
      "  14. '”?'                 (effect: +0.028)\n",
      "  15. ' critic'            (effect: +0.028)\n",
      "  16. ' wash'              (effect: +0.028)\n",
      "  17. ' radio'             (effect: +0.027)\n",
      "  18. ' motions'           (effect: +0.027)\n",
      "  19. ' conform'           (effect: +0.027)\n",
      "  20. ' peace'             (effect: +0.027)\n",
      "\n",
      "Top 20 Suppressed Tokens:\n",
      "   1. ' mar'               (effect: -0.034)\n",
      "   2. ' mutual'            (effect: -0.032)\n",
      "   3. ' Bell'              (effect: -0.029)\n",
      "   4. '039'                (effect: -0.028)\n",
      "   5. ' corresponding'     (effect: -0.028)\n",
      "   6. ' RE'                (effect: -0.028)\n",
      "   7. ' enormous'          (effect: -0.027)\n",
      "   8. ' notebook'          (effect: -0.027)\n",
      "   9. ' respective'        (effect: -0.027)\n",
      "  10. ' Final'             (effect: -0.027)\n",
      "  11. ' nuclear'           (effect: -0.026)\n",
      "  12. 'ebook'              (effect: -0.026)\n",
      "  13. ' snap'              (effect: -0.025)\n",
      "  14. ' lect'              (effect: -0.025)\n",
      "  15. ' ties'              (effect: -0.025)\n",
      "  16. ' react'             (effect: -0.025)\n",
      "  17. ' admission'         (effect: -0.025)\n",
      "  18. ' grand'             (effect: -0.025)\n",
      "  19. ' dipl'              (effect: -0.025)\n",
      "  20. ' det'               (effect: -0.024)\n",
      "\n",
      "Detected Patterns:\n"
     ]
    }
   ],
   "source": [
    "session.analyzer.vocabulary_analyzer.display_analysis_results(neuron_analysis, top_k=20)"
   ]
  },
  {
   "cell_type": "markdown",
   "metadata": {},
   "source": [
    "## Vocabulary analysis with intermediate activations"
   ]
  },
  {
   "cell_type": "code",
   "execution_count": null,
   "metadata": {},
   "outputs": [
    {
     "name": "stdout",
     "output_type": "stream",
     "text": [
      "Capturing baseline activations...\n",
      "Capturing modified activations...\n"
     ]
    },
    {
     "name": "stderr",
     "output_type": "stream",
     "text": [
      "2025-06-26 19:35:39,061 - SuperWeightManager_13509139552 - INFO - Successfully scaled 1/1 super weights by 0.000\n",
      "2025-06-26 19:35:39,213 - SuperWeightManager_13509139552 - INFO - Restored 1/1 weights\n"
     ]
    },
    {
     "name": "stdout",
     "output_type": "stream",
     "text": [
      "Projecting activations through 16 layers...\n",
      "  Processing layer 15/15\n"
     ]
    }
   ],
   "source": [
    "# Basic cascade analysis\n",
    "cascade_results = session.analyzer.vocabulary_analyzer.analyze_activation_cascade(\n",
    "    sw[0], \n",
    "    input_text=\"Apple Inc. is a technology company.\"\n",
    ")"
   ]
  },
  {
   "cell_type": "code",
   "execution_count": 30,
   "metadata": {},
   "outputs": [
    {
     "name": "stdout",
     "output_type": "stream",
     "text": [
      "\n",
      "======================================================================\n",
      "CASCADE ANALYSIS (FULL_PROJECTION): Layer 1 mlp.down_proj.weight[1764, 1710]\n",
      "======================================================================\n",
      "\n",
      "📊 SUMMARY:\n",
      "  Analysis type: full_projection\n",
      "  Layers analyzed: 16\n",
      "  Peak effect at layer: 8\n",
      "  Final magnitude: 213.6250\n",
      "  Effect evolution: increasing\n",
      "\n",
      "🔄 PROPAGATION ANALYSIS:\n",
      "  Pattern: amplifying\n",
      "  Amplification ratio: 0.000\n",
      "  Peak layer: 8\n",
      "  Critical layers: [1, 2]\n",
      "\n",
      "🎯 CONVERGENCE ANALYSIS:\n",
      "  Convergence layer: 15\n",
      "  Final similarity: 1.000\n",
      "  Stable tokens: ' incorporated', ' head', ' publicly', ' privately', ' profitable'\n",
      "\n",
      "📈 KEY LAYERS ANALYSIS:\n",
      "\n",
      "  Layer 0:\n",
      "    Effect magnitude: 0.0000\n",
      "    Activation magnitude: 0.0000\n",
      "    Layers remaining: 15\n",
      "    Top boosted: '|||IP_ADDRESS|||'(+0.00), '<|padding|>'(+0.00), '!'(+0.00), '\"'(+0.00), '#'(+0.00)\n",
      "\n",
      "  Layer 8:\n",
      "    Effect magnitude: 235.3750\n",
      "    Activation magnitude: 3.7246\n",
      "    Layers remaining: 7\n",
      "    Top boosted: ' founded'(+7.30), ' owned'(+6.64), ' created'(+6.32), ' governed'(+6.15), 'lik'(+5.74)\n",
      "\n",
      "  Layer 15:\n",
      "    Effect magnitude: 213.6250\n",
      "    Activation magnitude: 8.7500\n",
      "    Layers remaining: 0\n",
      "    Top boosted: ' publicly'(+6.03), ' privately'(+5.34), ' head'(+5.24), ' public'(+4.84), ' incorporated'(+4.82)\n",
      "\n",
      "----------------------------------------------------------------------\n"
     ]
    }
   ],
   "source": [
    "# Display results\n",
    "session.analyzer.vocabulary_analyzer.display_cascade_analysis(cascade_results)"
   ]
  },
  {
   "cell_type": "code",
   "execution_count": 45,
   "metadata": {},
   "outputs": [],
   "source": [
    "input_text = \"The company is great. The company is\"\n",
    "# Tokenize input text\n",
    "tokens = session.tokenizer(input_text, return_tensors='pt').to(session.model.device)"
   ]
  },
  {
   "cell_type": "code",
   "execution_count": 46,
   "metadata": {},
   "outputs": [
    {
     "data": {
      "text/plain": [
       "{'input_ids': tensor([[ 510, 2567,  310, 1270,   15,  380, 2567,  310]], device='mps:0'), 'attention_mask': tensor([[1, 1, 1, 1, 1, 1, 1, 1]], device='mps:0')}"
      ]
     },
     "execution_count": 46,
     "metadata": {},
     "output_type": "execute_result"
    }
   ],
   "source": [
    "tokens"
   ]
  },
  {
   "cell_type": "code",
   "execution_count": 47,
   "metadata": {},
   "outputs": [
    {
     "name": "stdout",
     "output_type": "stream",
     "text": [
      "The company is great. The company is great. The company is great. The company is great. The company is great. The company is great. The company is great. The company is great.\n"
     ]
    }
   ],
   "source": [
    "output = session.model.generate(\n",
    "    tokens['input_ids'],\n",
    "    max_new_tokens=32,\n",
    "    do_sample=False,\n",
    "    temperature=0.0\n",
    ")\n",
    "# Decode output\n",
    "output_text = session.tokenizer.decode(output[0], skip_special_tokens=True)\n",
    "print(output_text)"
   ]
  },
  {
   "cell_type": "code",
   "execution_count": 48,
   "metadata": {},
   "outputs": [
    {
     "name": "stderr",
     "output_type": "stream",
     "text": [
      "2025-06-26 19:42:52,323 - SuperWeightManager_13509139552 - INFO - Successfully scaled 1/1 super weights by -1.000\n",
      "2025-06-26 19:42:53,458 - SuperWeightManager_13509139552 - INFO - Restored 1/1 weights\n"
     ]
    },
    {
     "name": "stdout",
     "output_type": "stream",
     "text": [
      "The company is great. The company is\", the, the, the, the, the, the, the, the, the, the, the, the, the, the, the,),\n"
     ]
    }
   ],
   "source": [
    "# now with zeroed super weight\n",
    "with session.manager.temporary_scale([sw[0]], scale_factor=-1.0):\n",
    "    output_zeroed = session.model.generate(\n",
    "        tokens['input_ids'],\n",
    "        max_new_tokens=32,\n",
    "        do_sample=False,\n",
    "        temperature=0.0\n",
    "    )\n",
    "    # Decode output\n",
    "    output_text_zeroed = session.tokenizer.decode(output_zeroed[0], skip_special_tokens=True)\n",
    "    print(output_text_zeroed)"
   ]
  },
  {
   "cell_type": "code",
   "execution_count": 54,
   "metadata": {},
   "outputs": [
    {
     "name": "stdout",
     "output_type": "stream",
     "text": [
      "Scale factor for inverted super weight: -100.0\n",
      "\n",
      "--- Test 1: Apple Inc. is a technology company. Apple ---\n"
     ]
    },
    {
     "name": "stderr",
     "output_type": "stream",
     "text": [
      "/Users/fabiangrob/miniforge3/envs/super-weights/lib/python3.10/site-packages/transformers/generation/configuration_utils.py:631: UserWarning: `do_sample` is set to `False`. However, `temperature` is set to `0.0` -- this flag is only used in sample-based generation modes. You should set `do_sample=True` or unset `temperature`.\n",
      "  warnings.warn(\n",
      "2025-06-26 20:01:31,881 - SuperWeightManager_13509139552 - INFO - Successfully scaled 1/1 super weights by -100.000\n",
      "2025-06-26 20:01:32,461 - SuperWeightManager_13509139552 - INFO - Restored 1/1 weights\n"
     ]
    },
    {
     "name": "stdout",
     "output_type": "stream",
     "text": [
      "Normal:   Apple Inc. is a technology company. Apple Inc. is a technology company. Apple Inc. is a technology company. Apple\n",
      "Inverted: Apple Inc. is a technology company. Apple), a. a. a. a. a. a. a. a\n",
      "\n",
      "--- Test 2: Microsoft Corporation develops software. Microsoft ---\n"
     ]
    },
    {
     "name": "stderr",
     "output_type": "stream",
     "text": [
      "2025-06-26 20:01:33,038 - SuperWeightManager_13509139552 - INFO - Successfully scaled 1/1 super weights by -100.000\n",
      "2025-06-26 20:01:33,531 - SuperWeightManager_13509139552 - INFO - Restored 1/1 weights\n"
     ]
    },
    {
     "name": "stdout",
     "output_type": "stream",
     "text": [
      "Normal:   Microsoft Corporation develops software. Microsoft Corporation is a multinational corporation headquartered in Redmond, Washington, United\n",
      "Inverted: Microsoft Corporation develops software. Microsoft Windows Windows Windows Windows Windows Windows Windows Windows Windows Windows Windows Windows Windows Windows Windows Windows\n",
      "\n",
      "--- Test 3: The cat sat on the mat. The ---\n"
     ]
    },
    {
     "name": "stderr",
     "output_type": "stream",
     "text": [
      "2025-06-26 20:01:34,024 - SuperWeightManager_13509139552 - INFO - Successfully scaled 1/1 super weights by -100.000\n",
      "2025-06-26 20:01:34,528 - SuperWeightManager_13509139552 - INFO - Restored 1/1 weights\n"
     ]
    },
    {
     "name": "stdout",
     "output_type": "stream",
     "text": [
      "Normal:   The cat sat on the mat. The cat sat on the mat.\n",
      "\n",
      "The cat sat on the mat.\n",
      "\n",
      "Inverted: The cat sat on the mat. The cat cat cat cat cat cat cat cat cat cat cat cat cat cat cat cat\n",
      "\n",
      "--- Test 4: John walked to the store. John ---\n"
     ]
    },
    {
     "name": "stderr",
     "output_type": "stream",
     "text": [
      "2025-06-26 20:01:35,081 - SuperWeightManager_13509139552 - INFO - Successfully scaled 1/1 super weights by -100.000\n",
      "2025-06-26 20:01:35,601 - SuperWeightManager_13509139552 - INFO - Restored 1/1 weights\n"
     ]
    },
    {
     "name": "stdout",
     "output_type": "stream",
     "text": [
      "Normal:   John walked to the store. John bought a new pair of shoes. He was happy. He was walking in the\n",
      "Inverted: John walked to the store. John, the in, the in, the in, the, the, the,\n",
      "\n",
      "--- Test 5: Beautiful flowers bloom in spring. Beautiful ---\n"
     ]
    },
    {
     "name": "stderr",
     "output_type": "stream",
     "text": [
      "2025-06-26 20:01:36,096 - SuperWeightManager_13509139552 - INFO - Successfully scaled 1/1 super weights by -100.000\n",
      "2025-06-26 20:01:36,602 - SuperWeightManager_13509139552 - INFO - Restored 1/1 weights\n"
     ]
    },
    {
     "name": "stdout",
     "output_type": "stream",
     "text": [
      "Normal:   Beautiful flowers bloom in spring. Beautiful flowers bloom in spring.\n",
      "\n",
      "A:\n",
      "Beautiful flowers bloom in spring\n",
      "Inverted: Beautiful flowers bloom in spring. Beautiful in the in the in the in the in the in the in the in the\n",
      "\n",
      "--- Test 6: Yesterday I went to the park. Yesterday ---\n"
     ]
    },
    {
     "name": "stderr",
     "output_type": "stream",
     "text": [
      "2025-06-26 20:01:37,093 - SuperWeightManager_13509139552 - INFO - Successfully scaled 1/1 super weights by -100.000\n",
      "2025-06-26 20:01:37,616 - SuperWeightManager_13509139552 - INFO - Restored 1/1 weights\n"
     ]
    },
    {
     "name": "stdout",
     "output_type": "stream",
     "text": [
      "Normal:   Yesterday I went to the park. Yesterday I went to the park.\n",
      "\n",
      "Problem: Write a multi-choice question\n",
      "Inverted: Yesterday I went to the park. Yesterday, a, a, a, a, a, a, a, a\n",
      "\n",
      "--- Test 7: Quickly running down the street, he ---\n"
     ]
    },
    {
     "name": "stderr",
     "output_type": "stream",
     "text": [
      "2025-06-26 20:01:38,172 - SuperWeightManager_13509139552 - INFO - Successfully scaled 1/1 super weights by -100.000\n",
      "2025-06-26 20:01:38,720 - SuperWeightManager_13509139552 - INFO - Restored 1/1 weights\n"
     ]
    },
    {
     "name": "stdout",
     "output_type": "stream",
     "text": [
      "Normal:   Quickly running down the street, he sees a man in a trench coat coming out of a door and walking away.\n",
      "Inverted: Quickly running down the street, he family family family family family family family family family family family family family family family family\n",
      "\n",
      "--- Test 8: In the morning, coffee tastes best. In ---\n"
     ]
    },
    {
     "name": "stderr",
     "output_type": "stream",
     "text": [
      "2025-06-26 20:01:39,246 - SuperWeightManager_13509139552 - INFO - Successfully scaled 1/1 super weights by -100.000\n",
      "2025-06-26 20:01:39,777 - SuperWeightManager_13509139552 - INFO - Restored 1/1 weights\n"
     ]
    },
    {
     "name": "stdout",
     "output_type": "stream",
     "text": [
      "Normal:   In the morning, coffee tastes best. In the evening, coffee tastes best.\n",
      "\n",
      "Question:\n",
      "Die Kommission hat sich\n",
      "Inverted: In the morning, coffee tastes best. In the. the. the. the. the. the. the. the.\n",
      "\n",
      "--- Test 9: After finishing work, she decided to ---\n"
     ]
    },
    {
     "name": "stderr",
     "output_type": "stream",
     "text": [
      "2025-06-26 20:01:40,332 - SuperWeightManager_13509139552 - INFO - Successfully scaled 1/1 super weights by -100.000\n",
      "2025-06-26 20:01:40,817 - SuperWeightManager_13509139552 - INFO - Restored 1/1 weights\n"
     ]
    },
    {
     "name": "stdout",
     "output_type": "stream",
     "text": [
      "Normal:   After finishing work, she decided to go to the cinema. She went to the cinema with her friends. She saw\n",
      "Inverted: After finishing work, she decided to, job, job, job, job, job, job, job, job\n",
      "\n",
      "--- Test 10: Before starting the meeting, everyone should ---\n"
     ]
    },
    {
     "name": "stderr",
     "output_type": "stream",
     "text": [
      "2025-06-26 20:01:41,354 - SuperWeightManager_13509139552 - INFO - Successfully scaled 1/1 super weights by -100.000\n",
      "2025-06-26 20:01:41,890 - SuperWeightManager_13509139552 - INFO - Restored 1/1 weights\n"
     ]
    },
    {
     "name": "stdout",
     "output_type": "stream",
     "text": [
      "Normal:   Before starting the meeting, everyone should be aware of the following:\n",
      "- The meeting will be recorded and will be\n",
      "Inverted: Before starting the meeting, everyone should a in a, a, a, a, a, a, a,\n",
      "\n",
      "--- Test 11: The scientific method requires careful observation. The ---\n"
     ]
    },
    {
     "name": "stderr",
     "output_type": "stream",
     "text": [
      "2025-06-26 20:01:42,418 - SuperWeightManager_13509139552 - INFO - Successfully scaled 1/1 super weights by -100.000\n",
      "2025-06-26 20:01:42,997 - SuperWeightManager_13509139552 - INFO - Restored 1/1 weights\n"
     ]
    },
    {
     "name": "stdout",
     "output_type": "stream",
     "text": [
      "Normal:   The scientific method requires careful observation. The scientific method is a process of inquiry that is used to test and verify the validity\n",
      "Inverted: The scientific method requires careful observation. The),. - - - - - - - - - - - - - -\n",
      "\n",
      "--- Test 12: Economic indicators suggest market volatility. Economic ---\n"
     ]
    },
    {
     "name": "stderr",
     "output_type": "stream",
     "text": [
      "2025-06-26 20:01:43,547 - SuperWeightManager_13509139552 - INFO - Successfully scaled 1/1 super weights by -100.000\n",
      "2025-06-26 20:01:44,063 - SuperWeightManager_13509139552 - INFO - Restored 1/1 weights\n"
     ]
    },
    {
     "name": "stdout",
     "output_type": "stream",
     "text": [
      "Normal:   Economic indicators suggest market volatility. Economic indicators suggest market volatility.\n",
      "\n",
      "Answer:\n",
      "Les indicateurs économiques\n",
      "Inverted: Economic indicators suggest market volatility. Economic,” in the job job job job job job job job job job job job job\n",
      "\n",
      "--- Test 13: Political leaders gathered for summit talks. Political ---\n"
     ]
    },
    {
     "name": "stderr",
     "output_type": "stream",
     "text": [
      "2025-06-26 20:01:44,610 - SuperWeightManager_13509139552 - INFO - Successfully scaled 1/1 super weights by -100.000\n",
      "2025-06-26 20:01:45,124 - SuperWeightManager_13509139552 - INFO - Restored 1/1 weights\n"
     ]
    },
    {
     "name": "stdout",
     "output_type": "stream",
     "text": [
      "Normal:   Political leaders gathered for summit talks. Political leaders gathered for summit talks.\n",
      "\n",
      "A:\n",
      "The leaders of the world\n",
      "Inverted: Political leaders gathered for summit talks. Political', work… in… in… in… in… in… in… in\n",
      "\n",
      "--- Test 14: Artificial intelligence transforms modern computing. Artificial ---\n"
     ]
    },
    {
     "name": "stderr",
     "output_type": "stream",
     "text": [
      "2025-06-26 20:01:45,639 - SuperWeightManager_13509139552 - INFO - Successfully scaled 1/1 super weights by -100.000\n",
      "2025-06-26 20:01:46,155 - SuperWeightManager_13509139552 - INFO - Restored 1/1 weights\n"
     ]
    },
    {
     "name": "stdout",
     "output_type": "stream",
     "text": [
      "Normal:   Artificial intelligence transforms modern computing. Artificial intelligence is the science of making computers do things that humans can’t do.\n",
      "Inverted: Artificial intelligence transforms modern computing. Artificial intelligence is the science of computers that can learn and adapt to new information. Art\n",
      "\n",
      "--- Test 15: Climate change affects global weather patterns. Climate ---\n"
     ]
    },
    {
     "name": "stderr",
     "output_type": "stream",
     "text": [
      "2025-06-26 20:01:46,681 - SuperWeightManager_13509139552 - INFO - Successfully scaled 1/1 super weights by -100.000\n",
      "2025-06-26 20:01:46,780 - SuperWeightManager_13509139552 - INFO - Restored 1/1 weights\n"
     ]
    },
    {
     "name": "stdout",
     "output_type": "stream",
     "text": [
      "Normal:   Climate change affects global weather patterns. Climate change is the long-term change in the Earth’s climate.\n",
      "The\n",
      "Inverted: Climate change affects global weather patterns. Climate.\n",
      "\n",
      "--- Test 16: Hello, world! This is a test. Hello, ---\n"
     ]
    },
    {
     "name": "stderr",
     "output_type": "stream",
     "text": [
      "2025-06-26 20:01:47,301 - SuperWeightManager_13509139552 - INFO - Successfully scaled 1/1 super weights by -100.000\n",
      "2025-06-26 20:01:47,806 - SuperWeightManager_13509139552 - INFO - Restored 1/1 weights\n"
     ]
    },
    {
     "name": "stdout",
     "output_type": "stream",
     "text": [
      "Normal:   Hello, world! This is a test. Hello, world! This is a test. Hello, world! This is a test.\n",
      "Inverted: Hello, world! This is a test. Hello, a, a, a, a, a, a, a, a,\n",
      "\n",
      "--- Test 17: Question: What is the capital? Question: ---\n"
     ]
    },
    {
     "name": "stderr",
     "output_type": "stream",
     "text": [
      "2025-06-26 20:01:48,293 - SuperWeightManager_13509139552 - INFO - Successfully scaled 1/1 super weights by -100.000\n",
      "2025-06-26 20:01:48,796 - SuperWeightManager_13509139552 - INFO - Restored 1/1 weights\n"
     ]
    },
    {
     "name": "stdout",
     "output_type": "stream",
     "text": [
      "Normal:   Question: What is the capital? Question: What is the capital of the country?\n",
      "Answer:\n",
      "No\n",
      "Inverted: Question: What is the capital? Question:), a. a. a. a. a. a. a. a\n",
      "\n",
      "--- Test 18: First, second, third item on list. First, ---\n"
     ]
    },
    {
     "name": "stderr",
     "output_type": "stream",
     "text": [
      "2025-06-26 20:01:49,290 - SuperWeightManager_13509139552 - INFO - Successfully scaled 1/1 super weights by -100.000\n",
      "2025-06-26 20:01:49,776 - SuperWeightManager_13509139552 - INFO - Restored 1/1 weights\n"
     ]
    },
    {
     "name": "stdout",
     "output_type": "stream",
     "text": [
      "Normal:   First, second, third item on list. First, second, third item on list. First, second, third item on list.\n",
      "Inverted: First, second, third item on list. First,), second, second, third, three, three, three, three, three\n",
      "\n",
      "--- Test 19: Note: Please review carefully. Note: ---\n"
     ]
    },
    {
     "name": "stderr",
     "output_type": "stream",
     "text": [
      "2025-06-26 20:01:50,335 - SuperWeightManager_13509139552 - INFO - Successfully scaled 1/1 super weights by -100.000\n",
      "2025-06-26 20:01:50,852 - SuperWeightManager_13509139552 - INFO - Restored 1/1 weights\n"
     ]
    },
    {
     "name": "stdout",
     "output_type": "stream",
     "text": [
      "Normal:   Note: Please review carefully. Note: Please review carefully.\n",
      "\n",
      "## 1. Introduction\n",
      "\n",
      "The goal of this\n",
      "Inverted: Note: Please review carefully. Note: family family family family family family family family family family family family family family family family\n",
      "\n",
      "--- Test 20: In 1995, the internet was growing. In ---\n"
     ]
    },
    {
     "name": "stderr",
     "output_type": "stream",
     "text": [
      "2025-06-26 20:01:51,351 - SuperWeightManager_13509139552 - INFO - Successfully scaled 1/1 super weights by -100.000\n",
      "2025-06-26 20:01:51,856 - SuperWeightManager_13509139552 - INFO - Restored 1/1 weights\n"
     ]
    },
    {
     "name": "stdout",
     "output_type": "stream",
     "text": [
      "Normal:   In 1995, the internet was growing. In 1996, the internet was growing. In 1997, the internet was growing. In\n",
      "Inverted: In 1995, the internet was growing. In a. in. in. in. in. in. in. in.\n",
      "\n",
      "--- Test 21: Chapter 7 discusses advanced topics. Chapter ---\n"
     ]
    },
    {
     "name": "stderr",
     "output_type": "stream",
     "text": [
      "2025-06-26 20:01:52,402 - SuperWeightManager_13509139552 - INFO - Successfully scaled 1/1 super weights by -100.000\n",
      "2025-06-26 20:01:52,886 - SuperWeightManager_13509139552 - INFO - Restored 1/1 weights\n"
     ]
    },
    {
     "name": "stdout",
     "output_type": "stream",
     "text": [
      "Normal:   Chapter 7 discusses advanced topics. Chapter 8 discusses the use of the command line. Chapter 9 discusses the use of the\n",
      "Inverted: Chapter 7 discusses advanced topics. Chapter waste waste waste waste waste waste waste waste waste waste waste waste waste waste waste waste\n",
      "\n",
      "--- Test 22: Version 2.0 includes new features. Version ---\n"
     ]
    },
    {
     "name": "stderr",
     "output_type": "stream",
     "text": [
      "2025-06-26 20:01:53,398 - SuperWeightManager_13509139552 - INFO - Successfully scaled 1/1 super weights by -100.000\n",
      "2025-06-26 20:01:53,916 - SuperWeightManager_13509139552 - INFO - Restored 1/1 weights\n"
     ]
    },
    {
     "name": "stdout",
     "output_type": "stream",
     "text": [
      "Normal:   Version 2.0 includes new features. Version 1.0 is still available for download.\n",
      "Version 1.0 is a\n",
      "Inverted: Version 2.0 includes new features. Version 2.2, two, two, two, two, two, two,\n",
      "\n",
      "--- Test 23: And then something interesting happened. And ---\n"
     ]
    },
    {
     "name": "stderr",
     "output_type": "stream",
     "text": [
      "2025-06-26 20:01:54,446 - SuperWeightManager_13509139552 - INFO - Successfully scaled 1/1 super weights by -100.000\n",
      "2025-06-26 20:01:54,949 - SuperWeightManager_13509139552 - INFO - Restored 1/1 weights\n"
     ]
    },
    {
     "name": "stdout",
     "output_type": "stream",
     "text": [
      "Normal:   And then something interesting happened. And I was like, “Oh, I’m not going to do that.”\n",
      "Inverted: And then something interesting happened. And the next, the, the, the, the, the, the, the\n",
      "\n",
      "--- Test 24: But there was a problem. But ---\n"
     ]
    },
    {
     "name": "stderr",
     "output_type": "stream",
     "text": [
      "2025-06-26 20:01:55,456 - SuperWeightManager_13509139552 - INFO - Successfully scaled 1/1 super weights by -100.000\n",
      "2025-06-26 20:01:55,967 - SuperWeightManager_13509139552 - INFO - Restored 1/1 weights\n"
     ]
    },
    {
     "name": "stdout",
     "output_type": "stream",
     "text": [
      "Normal:   But there was a problem. But it was a problem that I could solve.\n",
      "\n",
      "I had a friend who\n",
      "Inverted: But there was a problem. But a', a, a, a, a, a, a, a,\n",
      "\n",
      "--- Test 25: Or maybe we should try differently. Or ---\n"
     ]
    },
    {
     "name": "stderr",
     "output_type": "stream",
     "text": [
      "2025-06-26 20:01:56,496 - SuperWeightManager_13509139552 - INFO - Successfully scaled 1/1 super weights by -100.000\n",
      "2025-06-26 20:01:57,029 - SuperWeightManager_13509139552 - INFO - Restored 1/1 weights\n"
     ]
    },
    {
     "name": "stdout",
     "output_type": "stream",
     "text": [
      "Normal:   Or maybe we should try differently. Or maybe we should try to be more like the people we want to be.\n",
      "\n",
      "Inverted: Or maybe we should try differently. Or a. a. a. a. a. a. a. a.\n",
      "\n",
      "--- Test 26: So the conclusion is clear. So ---\n"
     ]
    },
    {
     "name": "stderr",
     "output_type": "stream",
     "text": [
      "2025-06-26 20:01:57,569 - SuperWeightManager_13509139552 - INFO - Successfully scaled 1/1 super weights by -100.000\n",
      "2025-06-26 20:01:58,114 - SuperWeightManager_13509139552 - INFO - Restored 1/1 weights\n"
     ]
    },
    {
     "name": "stdout",
     "output_type": "stream",
     "text": [
      "Normal:   So the conclusion is clear. So, what is the answer?\n",
      "\n",
      "A:\n",
      "the answer is yes.\n",
      "Inverted: So the conclusion is clear. So..., the........................................................\n"
     ]
    }
   ],
   "source": [
    "scale_factor = -100.0\n",
    "\n",
    "print(f\"Scale factor for inverted super weight: {scale_factor}\")\n",
    "\n",
    "test_prompts = [\n",
    "    # Different starting tokens\n",
    "    \"Apple Inc. is a technology company. Apple\",\n",
    "    \"Microsoft Corporation develops software. Microsoft\", \n",
    "    \"The cat sat on the mat. The\",\n",
    "    \"John walked to the store. John\",\n",
    "    \"Beautiful flowers bloom in spring. Beautiful\",\n",
    "    \n",
    "    # Different sentence structures\n",
    "    \"Yesterday I went to the park. Yesterday\",\n",
    "    \"Quickly running down the street, he\",\n",
    "    \"In the morning, coffee tastes best. In\",\n",
    "    \"After finishing work, she decided to\",\n",
    "    \"Before starting the meeting, everyone should\",\n",
    "    \n",
    "    # Different content domains\n",
    "    \"The scientific method requires careful observation. The\",\n",
    "    \"Economic indicators suggest market volatility. Economic\",\n",
    "    \"Political leaders gathered for summit talks. Political\",\n",
    "    \"Artificial intelligence transforms modern computing. Artificial\",\n",
    "    \"Climate change affects global weather patterns. Climate\",\n",
    "    \n",
    "    # Punctuation and formatting\n",
    "    \"Hello, world! This is a test. Hello,\",\n",
    "    \"Question: What is the capital? Question:\",\n",
    "    \"First, second, third item on list. First,\",\n",
    "    \"Note: Please review carefully. Note:\",\n",
    "    \n",
    "    # Numbers and special cases\n",
    "    \"In 1995, the internet was growing. In\",\n",
    "    \"Chapter 7 discusses advanced topics. Chapter\",\n",
    "    \"Version 2.0 includes new features. Version\",\n",
    "    \n",
    "    # Function words\n",
    "    \"And then something interesting happened. And\",\n",
    "    \"But there was a problem. But\",\n",
    "    \"Or maybe we should try differently. Or\",\n",
    "    \"So the conclusion is clear. So\"\n",
    "]\n",
    "\n",
    "# Test code\n",
    "for i, prompt in enumerate(test_prompts):\n",
    "    print(f\"\\n--- Test {i+1}: {prompt} ---\")\n",
    "    \n",
    "    tokens = session.tokenizer(prompt, return_tensors='pt').to(session.model.device)\n",
    "    \n",
    "    # Normal generation\n",
    "    with torch.no_grad():\n",
    "        normal_output = session.model.generate(\n",
    "            tokens['input_ids'],\n",
    "            max_new_tokens=16,\n",
    "            do_sample=False,\n",
    "            temperature=0.0\n",
    "        )\n",
    "    normal_text = session.tokenizer.decode(normal_output[0], skip_special_tokens=True)\n",
    "    \n",
    "    # Inverted super weight generation\n",
    "    with session.manager.temporary_scale([sw[0]], scale_factor=scale_factor):\n",
    "        with torch.no_grad():\n",
    "            inverted_output = session.model.generate(\n",
    "                tokens['input_ids'],\n",
    "                max_new_tokens=16,\n",
    "                do_sample=False,\n",
    "                temperature=0.0\n",
    "            )\n",
    "    inverted_text = session.tokenizer.decode(inverted_output[0], skip_special_tokens=True)\n",
    "    \n",
    "    print(f\"Normal:   {normal_text}\")\n",
    "    print(f\"Inverted: {inverted_text}\")"
   ]
  },
  {
   "cell_type": "code",
   "execution_count": 58,
   "metadata": {},
   "outputs": [
    {
     "name": "stdout",
     "output_type": "stream",
     "text": [
      "Scale factor for inverted super weight: -1.0\n",
      "\n",
      "--- Test 1: Very very very unusual word. Very ---\n"
     ]
    },
    {
     "name": "stderr",
     "output_type": "stream",
     "text": [
      "2025-06-26 20:07:51,173 - SuperWeightManager_13509139552 - INFO - Successfully scaled 1/1 super weights by -1.000\n",
      "2025-06-26 20:07:51,670 - SuperWeightManager_13509139552 - INFO - Restored 1/1 weights\n"
     ]
    },
    {
     "name": "stdout",
     "output_type": "stream",
     "text": [
      "Normal:   Very very very unusual word. Very very very unusual word.\n",
      "\n",
      "I'm not sure if it's a word\n",
      "Inverted: Very very very unusual word. Very\n",
      "”?                            \n",
      "\n",
      "--- Test 2: The the the common phrase. The ---\n"
     ]
    },
    {
     "name": "stderr",
     "output_type": "stream",
     "text": [
      "2025-06-26 20:07:52,167 - SuperWeightManager_13509139552 - INFO - Successfully scaled 1/1 super weights by -1.000\n",
      "2025-06-26 20:07:52,482 - SuperWeightManager_13509139552 - INFO - Restored 1/1 weights\n"
     ]
    },
    {
     "name": "stdout",
     "output_type": "stream",
     "text": [
      "Normal:   The the the common phrase. The common phrase is the common phrase.\n",
      "\n",
      "The common phrase is the common phrase\n",
      "Inverted: The the the common phrase. The common phrase. The common phrase.\n",
      "”?\n",
      "\n",
      "--- Test 3: The doctor examined the patient. The doctor ---\n"
     ]
    },
    {
     "name": "stderr",
     "output_type": "stream",
     "text": [
      "2025-06-26 20:07:52,982 - SuperWeightManager_13509139552 - INFO - Successfully scaled 1/1 super weights by -1.000\n",
      "2025-06-26 20:07:53,483 - SuperWeightManager_13509139552 - INFO - Restored 1/1 weights\n"
     ]
    },
    {
     "name": "stdout",
     "output_type": "stream",
     "text": [
      "Normal:   The doctor examined the patient. The doctor said, \"You have a very serious disease. You need to have an operation\n",
      "Inverted: The doctor examined the patient. The doctor, in\", the, in, a, in, a, a, a\n",
      "\n",
      "--- Test 4: The programmer coded the function. The programmer ---\n"
     ]
    },
    {
     "name": "stderr",
     "output_type": "stream",
     "text": [
      "2025-06-26 20:07:53,993 - SuperWeightManager_13509139552 - INFO - Successfully scaled 1/1 super weights by -1.000\n",
      "2025-06-26 20:07:54,500 - SuperWeightManager_13509139552 - INFO - Restored 1/1 weights\n"
     ]
    },
    {
     "name": "stdout",
     "output_type": "stream",
     "text": [
      "Normal:   The programmer coded the function. The programmer is the one who knows the code. The programmer is the one who knows the\n",
      "Inverted: The programmer coded the function. The programmer, the\", the, the, the, the, the, the, the\n",
      "\n",
      "--- Test 5: The chef prepared the meal. The chef ---\n"
     ]
    },
    {
     "name": "stderr",
     "output_type": "stream",
     "text": [
      "2025-06-26 20:07:54,850 - SuperWeightManager_13509139552 - INFO - Successfully scaled 1/1 super weights by -1.000\n",
      "2025-06-26 20:07:55,355 - SuperWeightManager_13509139552 - INFO - Restored 1/1 weights\n"
     ]
    },
    {
     "name": "stdout",
     "output_type": "stream",
     "text": [
      "Normal:   The chef prepared the meal. The chef was a good cook.\n",
      "A:\n",
      "B\n",
      "Inverted: The chef prepared the meal. The chef, a,\" the,\" the, the, the, the, the, the\n"
     ]
    }
   ],
   "source": [
    "scale_factor = -1.0\n",
    "\n",
    "print(f\"Scale factor for inverted super weight: {scale_factor}\")\n",
    "\n",
    "test_prompts = [\n",
    "    \"Very very very unusual word. Very\",  # Force rare context\n",
    "    \"The the the common phrase. The\",     # Force common context\n",
    "    \"The doctor examined the patient. The doctor\",\n",
    "    \"The programmer coded the function. The programmer\", \n",
    "    \"The chef prepared the meal. The chef\"\n",
    "]\n",
    "\n",
    "# Test code\n",
    "for i, prompt in enumerate(test_prompts):\n",
    "    print(f\"\\n--- Test {i+1}: {prompt} ---\")\n",
    "    \n",
    "    tokens = session.tokenizer(prompt, return_tensors='pt').to(session.model.device)\n",
    "    \n",
    "    # Normal generation\n",
    "    with torch.no_grad():\n",
    "        normal_output = session.model.generate(\n",
    "            tokens['input_ids'],\n",
    "            max_new_tokens=16,\n",
    "            do_sample=False,\n",
    "            temperature=0.0\n",
    "        )\n",
    "    normal_text = session.tokenizer.decode(normal_output[0], skip_special_tokens=True)\n",
    "    \n",
    "    # Inverted super weight generation\n",
    "    with session.manager.temporary_scale([sw[0]], scale_factor=scale_factor):\n",
    "        with torch.no_grad():\n",
    "            inverted_output = session.model.generate(\n",
    "                tokens['input_ids'],\n",
    "                max_new_tokens=16,\n",
    "                do_sample=False,\n",
    "                temperature=0.0\n",
    "            )\n",
    "    inverted_text = session.tokenizer.decode(inverted_output[0], skip_special_tokens=True)\n",
    "    \n",
    "    print(f\"Normal:   {normal_text}\")\n",
    "    print(f\"Inverted: {inverted_text}\")"
   ]
  },
  {
   "cell_type": "code",
   "execution_count": 31,
   "metadata": {},
   "outputs": [
    {
     "data": {
      "text/plain": [
       "{'analysis_type': 'full_projection',\n",
       " 'super_weight': SuperWeight(layer=1, coords=[1764, 1710], input=-401.50, output=-262.00),\n",
       " 'input_text': 'The company. The company is',\n",
       " 'cascade_effects': {0: {'activation_magnitude': 0.0,\n",
       "   'vocab_effect': array([0., 0., 0., ..., 0., 0., 0.], dtype=float16),\n",
       "   'statistics': {'mean': 0.0,\n",
       "    'std': 0.0,\n",
       "    'variance': 0.0,\n",
       "    'kurtosis': nan,\n",
       "    'skew': nan,\n",
       "    'max_effect': 0.0,\n",
       "    'min_effect': 0.0,\n",
       "    'num_positive': 0,\n",
       "    'num_negative': 0,\n",
       "    'num_significant': 0},\n",
       "   'top_tokens': {'top_boosted': [{'token_id': 0,\n",
       "      'token_str': '|||IP_ADDRESS|||',\n",
       "      'effect_magnitude': 0.0},\n",
       "     {'token_id': 1, 'token_str': '<|padding|>', 'effect_magnitude': 0.0},\n",
       "     {'token_id': 2, 'token_str': '!', 'effect_magnitude': 0.0},\n",
       "     {'token_id': 3, 'token_str': '\"', 'effect_magnitude': 0.0},\n",
       "     {'token_id': 4, 'token_str': '#', 'effect_magnitude': 0.0},\n",
       "     {'token_id': 5, 'token_str': '$', 'effect_magnitude': 0.0},\n",
       "     {'token_id': 6, 'token_str': '%', 'effect_magnitude': 0.0},\n",
       "     {'token_id': 7, 'token_str': '&', 'effect_magnitude': 0.0},\n",
       "     {'token_id': 8, 'token_str': \"'\", 'effect_magnitude': 0.0},\n",
       "     {'token_id': 9, 'token_str': '(', 'effect_magnitude': 0.0}],\n",
       "    'top_suppressed': [{'token_id': 0,\n",
       "      'token_str': '|||IP_ADDRESS|||',\n",
       "      'effect_magnitude': 0.0},\n",
       "     {'token_id': 1, 'token_str': '<|padding|>', 'effect_magnitude': 0.0},\n",
       "     {'token_id': 2, 'token_str': '!', 'effect_magnitude': 0.0},\n",
       "     {'token_id': 3, 'token_str': '\"', 'effect_magnitude': 0.0},\n",
       "     {'token_id': 4, 'token_str': '#', 'effect_magnitude': 0.0},\n",
       "     {'token_id': 5, 'token_str': '$', 'effect_magnitude': 0.0},\n",
       "     {'token_id': 6, 'token_str': '%', 'effect_magnitude': 0.0},\n",
       "     {'token_id': 7, 'token_str': '&', 'effect_magnitude': 0.0},\n",
       "     {'token_id': 8, 'token_str': \"'\", 'effect_magnitude': 0.0},\n",
       "     {'token_id': 9, 'token_str': '(', 'effect_magnitude': 0.0}]},\n",
       "   'effect_magnitude': 0.0,\n",
       "   'layers_remaining': 15},\n",
       "  1: {'activation_magnitude': 0.0,\n",
       "   'vocab_effect': array([0., 0., 0., ..., 0., 0., 0.], dtype=float16),\n",
       "   'statistics': {'mean': 0.0,\n",
       "    'std': 0.0,\n",
       "    'variance': 0.0,\n",
       "    'kurtosis': nan,\n",
       "    'skew': nan,\n",
       "    'max_effect': 0.0,\n",
       "    'min_effect': 0.0,\n",
       "    'num_positive': 0,\n",
       "    'num_negative': 0,\n",
       "    'num_significant': 0},\n",
       "   'top_tokens': {'top_boosted': [{'token_id': 0,\n",
       "      'token_str': '|||IP_ADDRESS|||',\n",
       "      'effect_magnitude': 0.0},\n",
       "     {'token_id': 1, 'token_str': '<|padding|>', 'effect_magnitude': 0.0},\n",
       "     {'token_id': 2, 'token_str': '!', 'effect_magnitude': 0.0},\n",
       "     {'token_id': 3, 'token_str': '\"', 'effect_magnitude': 0.0},\n",
       "     {'token_id': 4, 'token_str': '#', 'effect_magnitude': 0.0},\n",
       "     {'token_id': 5, 'token_str': '$', 'effect_magnitude': 0.0},\n",
       "     {'token_id': 6, 'token_str': '%', 'effect_magnitude': 0.0},\n",
       "     {'token_id': 7, 'token_str': '&', 'effect_magnitude': 0.0},\n",
       "     {'token_id': 8, 'token_str': \"'\", 'effect_magnitude': 0.0},\n",
       "     {'token_id': 9, 'token_str': '(', 'effect_magnitude': 0.0}],\n",
       "    'top_suppressed': [{'token_id': 0,\n",
       "      'token_str': '|||IP_ADDRESS|||',\n",
       "      'effect_magnitude': 0.0},\n",
       "     {'token_id': 1, 'token_str': '<|padding|>', 'effect_magnitude': 0.0},\n",
       "     {'token_id': 2, 'token_str': '!', 'effect_magnitude': 0.0},\n",
       "     {'token_id': 3, 'token_str': '\"', 'effect_magnitude': 0.0},\n",
       "     {'token_id': 4, 'token_str': '#', 'effect_magnitude': 0.0},\n",
       "     {'token_id': 5, 'token_str': '$', 'effect_magnitude': 0.0},\n",
       "     {'token_id': 6, 'token_str': '%', 'effect_magnitude': 0.0},\n",
       "     {'token_id': 7, 'token_str': '&', 'effect_magnitude': 0.0},\n",
       "     {'token_id': 8, 'token_str': \"'\", 'effect_magnitude': 0.0},\n",
       "     {'token_id': 9, 'token_str': '(', 'effect_magnitude': 0.0}]},\n",
       "   'effect_magnitude': 0.0,\n",
       "   'layers_remaining': 14},\n",
       "  2: {'activation_magnitude': 3.841796875,\n",
       "   'vocab_effect': array([-0.009766,  0.105   , -0.761   , ...,  0.1047  ,  0.1047  ,\n",
       "           0.1047  ], dtype=float16),\n",
       "   'statistics': {'mean': 0.0103302001953125,\n",
       "    'std': 0.92626953125,\n",
       "    'variance': 0.85791015625,\n",
       "    'kurtosis': 0.8504707894173369,\n",
       "    'skew': -0.10000652370096189,\n",
       "    'max_effect': 4.89453125,\n",
       "    'min_effect': -5.1796875,\n",
       "    'num_positive': 25901,\n",
       "    'num_negative': 24396,\n",
       "    'num_significant': 12815},\n",
       "   'top_tokens': {'top_boosted': [{'token_id': 4390,\n",
       "      'token_str': ' currently',\n",
       "      'effect_magnitude': 4.89453125},\n",
       "     {'token_id': 8139, 'token_str': ' …', 'effect_magnitude': 4.7109375},\n",
       "     {'token_id': 872, 'token_str': ' prov', 'effect_magnitude': 4.5625},\n",
       "     {'token_id': 3839,\n",
       "      'token_str': ' generally',\n",
       "      'effect_magnitude': 4.3046875},\n",
       "     {'token_id': 5431, 'token_str': ' typically', 'effect_magnitude': 4.25},\n",
       "     {'token_id': 1900, 'token_str': ' always', 'effect_magnitude': 4.21875},\n",
       "     {'token_id': 10323,\n",
       "      'token_str': ' basically',\n",
       "      'effect_magnitude': 4.0859375},\n",
       "     {'token_id': 8505,\n",
       "      'token_str': ' apparently',\n",
       "      'effect_magnitude': 3.951171875},\n",
       "     {'token_id': 50008,\n",
       "      'token_str': ' ranc',\n",
       "      'effect_magnitude': 3.935546875},\n",
       "     {'token_id': 8127,\n",
       "      'token_str': ' largely',\n",
       "      'effect_magnitude': 3.91796875}],\n",
       "    'top_suppressed': [{'token_id': 487,\n",
       "      'token_str': 'ib',\n",
       "      'effect_magnitude': -5.1796875},\n",
       "     {'token_id': 84, 'token_str': 's', 'effect_magnitude': -5.015625},\n",
       "     {'token_id': 3282,\n",
       "      'token_str': ' sense',\n",
       "      'effect_magnitude': -4.64453125},\n",
       "     {'token_id': 21692, 'token_str': ' lasting', 'effect_magnitude': -4.625},\n",
       "     {'token_id': 597, 'token_str': ' they', 'effect_magnitude': -4.3984375},\n",
       "     {'token_id': 388, 'token_str': ' H', 'effect_magnitude': -4.35546875},\n",
       "     {'token_id': 15512,\n",
       "      'token_str': ' slice',\n",
       "      'effect_magnitude': -4.33984375},\n",
       "     {'token_id': 21049, 'token_str': 'quote', 'effect_magnitude': -4.25},\n",
       "     {'token_id': 302, 'token_str': 'ot', 'effect_magnitude': -4.1640625},\n",
       "     {'token_id': 332, 'token_str': 'ver', 'effect_magnitude': -4.140625}]},\n",
       "   'effect_magnitude': 207.75,\n",
       "   'layers_remaining': 13},\n",
       "  3: {'activation_magnitude': 3.958984375,\n",
       "   'vocab_effect': array([0.2397 , 0.09283, 0.6514 , ..., 0.0916 , 0.0916 , 0.0916 ],\n",
       "         dtype=float16),\n",
       "   'statistics': {'mean': 0.01508331298828125,\n",
       "    'std': 1.0078125,\n",
       "    'variance': 1.0166015625,\n",
       "    'kurtosis': 0.6474202279083974,\n",
       "    'skew': -0.037811823908004534,\n",
       "    'max_effect': 6.30859375,\n",
       "    'min_effect': -4.7265625,\n",
       "    'num_positive': 25894,\n",
       "    'num_negative': 24398,\n",
       "    'num_significant': 14936},\n",
       "   'top_tokens': {'top_boosted': [{'token_id': 3139,\n",
       "      'token_str': ' itself',\n",
       "      'effect_magnitude': 6.30859375},\n",
       "     {'token_id': 4390,\n",
       "      'token_str': ' currently',\n",
       "      'effect_magnitude': 5.2890625},\n",
       "     {'token_id': 8139, 'token_str': ' …', 'effect_magnitude': 5.046875},\n",
       "     {'token_id': 1227, 'token_str': ' /', 'effect_magnitude': 5.03515625},\n",
       "     {'token_id': 25404, 'token_str': ' â', 'effect_magnitude': 5.01953125},\n",
       "     {'token_id': 15260, 'token_str': ' fu', 'effect_magnitude': 4.734375},\n",
       "     {'token_id': 11658,\n",
       "      'token_str': ' operated',\n",
       "      'effect_magnitude': 4.60546875},\n",
       "     {'token_id': 1900, 'token_str': ' always', 'effect_magnitude': 4.4140625},\n",
       "     {'token_id': 26401,\n",
       "      'token_str': ' fundamentally',\n",
       "      'effect_magnitude': 4.3984375},\n",
       "     {'token_id': 11903, 'token_str': ' maxim', 'effect_magnitude': 4.390625}],\n",
       "    'top_suppressed': [{'token_id': 13463,\n",
       "      'token_str': ' overnight',\n",
       "      'effect_magnitude': -4.7265625},\n",
       "     {'token_id': 15512,\n",
       "      'token_str': ' slice',\n",
       "      'effect_magnitude': -4.4296875},\n",
       "     {'token_id': 14469, 'token_str': ' Hotel', 'effect_magnitude': -4.34375},\n",
       "     {'token_id': 8930,\n",
       "      'token_str': ' island',\n",
       "      'effect_magnitude': -4.3203125},\n",
       "     {'token_id': 7145,\n",
       "      'token_str': ' corner',\n",
       "      'effect_magnitude': -4.2578125},\n",
       "     {'token_id': 2743, 'token_str': ' regard', 'effect_magnitude': -4.234375},\n",
       "     {'token_id': 8500, 'token_str': 'ao', 'effect_magnitude': -4.2265625},\n",
       "     {'token_id': 896, 'token_str': ' back', 'effect_magnitude': -4.19140625},\n",
       "     {'token_id': 302, 'token_str': 'ot', 'effect_magnitude': -4.14453125},\n",
       "     {'token_id': 4867, 'token_str': ' Tw', 'effect_magnitude': -4.11328125}]},\n",
       "   'effect_magnitude': 226.125,\n",
       "   'layers_remaining': 12},\n",
       "  4: {'activation_magnitude': 3.4765625,\n",
       "   'vocab_effect': array([0.11206, 0.1968 , 0.8804 , ..., 0.1954 , 0.1954 , 0.1954 ],\n",
       "         dtype=float16),\n",
       "   'statistics': {'mean': 0.031768798828125,\n",
       "    'std': 1.0205078125,\n",
       "    'variance': 1.041015625,\n",
       "    'kurtosis': 0.6765943067137412,\n",
       "    'skew': -0.27858440409005886,\n",
       "    'max_effect': 5.6015625,\n",
       "    'min_effect': -5.7109375,\n",
       "    'num_positive': 26958,\n",
       "    'num_negative': 23337,\n",
       "    'num_significant': 15332},\n",
       "   'top_tokens': {'top_boosted': [{'token_id': 4390,\n",
       "      'token_str': ' currently',\n",
       "      'effect_magnitude': 5.6015625},\n",
       "     {'token_id': 23800, 'token_str': ' voter', 'effect_magnitude': 4.71875},\n",
       "     {'token_id': 1192, 'token_str': ' appro', 'effect_magnitude': 4.296875},\n",
       "     {'token_id': 3139, 'token_str': ' itself', 'effect_magnitude': 4.15625},\n",
       "     {'token_id': 867, 'token_str': ' rem', 'effect_magnitude': 4.1328125},\n",
       "     {'token_id': 19728,\n",
       "      'token_str': ' Currently',\n",
       "      'effect_magnitude': 4.06640625},\n",
       "     {'token_id': 20620,\n",
       "      'token_str': ' contradiction',\n",
       "      'effect_magnitude': 3.89453125},\n",
       "     {'token_id': 15617, 'token_str': 'both', 'effect_magnitude': 3.87109375},\n",
       "     {'token_id': 6235, 'token_str': ' Rem', 'effect_magnitude': 3.85546875},\n",
       "     {'token_id': 1097,\n",
       "      'token_str': ' both',\n",
       "      'effect_magnitude': 3.810546875}],\n",
       "    'top_suppressed': [{'token_id': 7145,\n",
       "      'token_str': ' corner',\n",
       "      'effect_magnitude': -5.7109375},\n",
       "     {'token_id': 10913, 'token_str': ' hang', 'effect_magnitude': -5.453125},\n",
       "     {'token_id': 640, 'token_str': 'ake', 'effect_magnitude': -4.953125},\n",
       "     {'token_id': 710, 'token_str': 'ove', 'effect_magnitude': -4.85546875},\n",
       "     {'token_id': 8930,\n",
       "      'token_str': ' island',\n",
       "      'effect_magnitude': -4.8515625},\n",
       "     {'token_id': 3817, 'token_str': ' box', 'effect_magnitude': -4.671875},\n",
       "     {'token_id': 1930, 'token_str': ' side', 'effect_magnitude': -4.671875},\n",
       "     {'token_id': 820, 'token_str': ' co', 'effect_magnitude': -4.640625},\n",
       "     {'token_id': 13365,\n",
       "      'token_str': ' dozen',\n",
       "      'effect_magnitude': -4.62109375},\n",
       "     {'token_id': 1072,\n",
       "      'token_str': ' same',\n",
       "      'effect_magnitude': -4.6015625}]},\n",
       "   'effect_magnitude': 228.875,\n",
       "   'layers_remaining': 11},\n",
       "  5: {'activation_magnitude': 3.294921875,\n",
       "   'vocab_effect': array([3.103e-01, 1.953e-03, 1.219e+00, ..., 7.324e-04, 7.324e-04,\n",
       "          7.324e-04], dtype=float16),\n",
       "   'statistics': {'mean': -0.00414276123046875,\n",
       "    'std': 0.9931640625,\n",
       "    'variance': 0.986328125,\n",
       "    'kurtosis': 0.844642682089991,\n",
       "    'skew': 0.03645052610728894,\n",
       "    'max_effect': 5.9609375,\n",
       "    'min_effect': -5.46484375,\n",
       "    'num_positive': 25083,\n",
       "    'num_negative': 25210,\n",
       "    'num_significant': 14408},\n",
       "   'top_tokens': {'top_boosted': [{'token_id': 4390,\n",
       "      'token_str': ' currently',\n",
       "      'effect_magnitude': 5.9609375},\n",
       "     {'token_id': 3139,\n",
       "      'token_str': ' itself',\n",
       "      'effect_magnitude': 5.42578125},\n",
       "     {'token_id': 10323,\n",
       "      'token_str': ' basically',\n",
       "      'effect_magnitude': 5.12109375},\n",
       "     {'token_id': 7052,\n",
       "      'token_str': ' strongly',\n",
       "      'effect_magnitude': 5.12109375},\n",
       "     {'token_id': 1754, 'token_str': ' based', 'effect_magnitude': 4.984375},\n",
       "     {'token_id': 18123,\n",
       "      'token_str': ' negatively',\n",
       "      'effect_magnitude': 4.7109375},\n",
       "     {'token_id': 5803, 'token_str': ' NOT', 'effect_magnitude': 4.62890625},\n",
       "     {'token_id': 4122,\n",
       "      'token_str': ' highly',\n",
       "      'effect_magnitude': 4.58984375},\n",
       "     {'token_id': 17224,\n",
       "      'token_str': ' comprised',\n",
       "      'effect_magnitude': 4.54296875},\n",
       "     {'token_id': 12718,\n",
       "      'token_str': ' solely',\n",
       "      'effect_magnitude': 4.4921875}],\n",
       "    'top_suppressed': [{'token_id': 1513,\n",
       "      'token_str': 'arm',\n",
       "      'effect_magnitude': -5.46484375},\n",
       "     {'token_id': 837, 'token_str': 'oth', 'effect_magnitude': -4.8046875},\n",
       "     {'token_id': 1643, 'token_str': ' few', 'effect_magnitude': -4.74609375},\n",
       "     {'token_id': 13463,\n",
       "      'token_str': ' overnight',\n",
       "      'effect_magnitude': -4.6484375},\n",
       "     {'token_id': 16267, 'token_str': ' excuse', 'effect_magnitude': -4.625},\n",
       "     {'token_id': 3081,\n",
       "      'token_str': ' additional',\n",
       "      'effect_magnitude': -4.5546875},\n",
       "     {'token_id': 13365, 'token_str': ' dozen', 'effect_magnitude': -4.515625},\n",
       "     {'token_id': 2339, 'token_str': 'ales', 'effect_magnitude': -4.5078125},\n",
       "     {'token_id': 17167,\n",
       "      'token_str': ' handful',\n",
       "      'effect_magnitude': -4.34375},\n",
       "     {'token_id': 276, 'token_str': 'ou', 'effect_magnitude': -4.3125}]},\n",
       "   'effect_magnitude': 222.75,\n",
       "   'layers_remaining': 10},\n",
       "  6: {'activation_magnitude': 3.46484375,\n",
       "   'vocab_effect': array([ 0.3433, -0.1001,  1.427 , ..., -0.1006, -0.1006, -0.1006],\n",
       "         dtype=float16),\n",
       "   'statistics': {'mean': -0.01336669921875,\n",
       "    'std': 1.0166015625,\n",
       "    'variance': 1.0341796875,\n",
       "    'kurtosis': 0.8203197379179854,\n",
       "    'skew': 0.10602898472310716,\n",
       "    'max_effect': 5.734375,\n",
       "    'min_effect': -6.6484375,\n",
       "    'num_positive': 24128,\n",
       "    'num_negative': 26167,\n",
       "    'num_significant': 14956},\n",
       "   'top_tokens': {'top_boosted': [{'token_id': 17886,\n",
       "      'token_str': ' governed',\n",
       "      'effect_magnitude': 5.734375},\n",
       "     {'token_id': 4390,\n",
       "      'token_str': ' currently',\n",
       "      'effect_magnitude': 5.72265625},\n",
       "     {'token_id': 10323,\n",
       "      'token_str': ' basically',\n",
       "      'effect_magnitude': 5.47265625},\n",
       "     {'token_id': 4270, 'token_str': ' built', 'effect_magnitude': 5.171875},\n",
       "     {'token_id': 80, 'token_str': 'o', 'effect_magnitude': 5.171875},\n",
       "     {'token_id': 11658,\n",
       "      'token_str': ' operated',\n",
       "      'effect_magnitude': 5.02734375},\n",
       "     {'token_id': 7194, 'token_str': ' mainly', 'effect_magnitude': 5.015625},\n",
       "     {'token_id': 8558,\n",
       "      'token_str': ' primarily',\n",
       "      'effect_magnitude': 4.90625},\n",
       "     {'token_id': 5608,\n",
       "      'token_str': ' served',\n",
       "      'effect_magnitude': 4.88671875},\n",
       "     {'token_id': 9093,\n",
       "      'token_str': ' essentially',\n",
       "      'effect_magnitude': 4.7265625}],\n",
       "    'top_suppressed': [{'token_id': 354,\n",
       "      'token_str': ' pro',\n",
       "      'effect_magnitude': -6.6484375},\n",
       "     {'token_id': 2831,\n",
       "      'token_str': ' cross',\n",
       "      'effect_magnitude': -4.83203125},\n",
       "     {'token_id': 6619, 'token_str': ' relief', 'effect_magnitude': -4.8125},\n",
       "     {'token_id': 6821, 'token_str': ' spl', 'effect_magnitude': -4.546875},\n",
       "     {'token_id': 7477, 'token_str': ' mine', 'effect_magnitude': -4.51953125},\n",
       "     {'token_id': 9685, 'token_str': ' wet', 'effect_magnitude': -4.4453125},\n",
       "     {'token_id': 1239, 'token_str': ' read', 'effect_magnitude': -4.390625},\n",
       "     {'token_id': 8930,\n",
       "      'token_str': ' island',\n",
       "      'effect_magnitude': -4.36328125},\n",
       "     {'token_id': 5213,\n",
       "      'token_str': ' international',\n",
       "      'effect_magnitude': -4.29296875},\n",
       "     {'token_id': 5149,\n",
       "      'token_str': ' wave',\n",
       "      'effect_magnitude': -4.2734375}]},\n",
       "   'effect_magnitude': 228.125,\n",
       "   'layers_remaining': 9},\n",
       "  7: {'activation_magnitude': 3.67578125,\n",
       "   'vocab_effect': array([0.607  , 0.01538, 0.2012 , ..., 0.01514, 0.01514, 0.01514],\n",
       "         dtype=float16),\n",
       "   'statistics': {'mean': 0.004638671875,\n",
       "    'std': 0.9921875,\n",
       "    'variance': 0.98388671875,\n",
       "    'kurtosis': 0.8919931777179837,\n",
       "    'skew': 0.2067593997484629,\n",
       "    'max_effect': 5.9609375,\n",
       "    'min_effect': -5.56640625,\n",
       "    'num_positive': 24452,\n",
       "    'num_negative': 25845,\n",
       "    'num_significant': 14330},\n",
       "   'top_tokens': {'top_boosted': [{'token_id': 4270,\n",
       "      'token_str': ' built',\n",
       "      'effect_magnitude': 5.9609375},\n",
       "     {'token_id': 9093,\n",
       "      'token_str': ' essentially',\n",
       "      'effect_magnitude': 5.7890625},\n",
       "     {'token_id': 17886,\n",
       "      'token_str': ' governed',\n",
       "      'effect_magnitude': 5.640625},\n",
       "     {'token_id': 10323,\n",
       "      'token_str': ' basically',\n",
       "      'effect_magnitude': 5.57421875},\n",
       "     {'token_id': 14691,\n",
       "      'token_str': ' dominated',\n",
       "      'effect_magnitude': 5.28515625},\n",
       "     {'token_id': 11658,\n",
       "      'token_str': ' operated',\n",
       "      'effect_magnitude': 5.26171875},\n",
       "     {'token_id': 11420,\n",
       "      'token_str': ' founded',\n",
       "      'effect_magnitude': 5.1328125},\n",
       "     {'token_id': 36719,\n",
       "      'token_str': ' characterised',\n",
       "      'effect_magnitude': 5.0},\n",
       "     {'token_id': 9633, 'token_str': ' owned', 'effect_magnitude': 4.78515625},\n",
       "     {'token_id': 3139, 'token_str': ' itself', 'effect_magnitude': 4.75}],\n",
       "    'top_suppressed': [{'token_id': 3,\n",
       "      'token_str': '\"',\n",
       "      'effect_magnitude': -5.56640625},\n",
       "     {'token_id': 540, 'token_str': ' int', 'effect_magnitude': -5.0859375},\n",
       "     {'token_id': 544, 'token_str': ' [', 'effect_magnitude': -4.90625},\n",
       "     {'token_id': 1040, 'token_str': ' |', 'effect_magnitude': -4.828125},\n",
       "     {'token_id': 391, 'token_str': ' r', 'effect_magnitude': -4.765625},\n",
       "     {'token_id': 84, 'token_str': 's', 'effect_magnitude': -4.7578125},\n",
       "     {'token_id': 209, 'token_str': ' ', 'effect_magnitude': -4.53515625},\n",
       "     {'token_id': 357, 'token_str': 'ab', 'effect_magnitude': -4.0546875},\n",
       "     {'token_id': 9410,\n",
       "      'token_str': ' contents',\n",
       "      'effect_magnitude': -4.046875},\n",
       "     {'token_id': 354, 'token_str': ' pro', 'effect_magnitude': -4.03125}]},\n",
       "   'effect_magnitude': 222.5,\n",
       "   'layers_remaining': 8},\n",
       "  8: {'activation_magnitude': 3.724609375,\n",
       "   'vocab_effect': array([0.339 , 0.0697, 0.4595, ..., 0.0692, 0.0692, 0.0692], dtype=float16),\n",
       "   'statistics': {'mean': 0.02374267578125,\n",
       "    'std': 1.048828125,\n",
       "    'variance': 1.1005859375,\n",
       "    'kurtosis': 1.1117083382868982,\n",
       "    'skew': 0.13352957533481324,\n",
       "    'max_effect': 7.3046875,\n",
       "    'min_effect': -5.265625,\n",
       "    'num_positive': 25452,\n",
       "    'num_negative': 24846,\n",
       "    'num_significant': 15224},\n",
       "   'top_tokens': {'top_boosted': [{'token_id': 11420,\n",
       "      'token_str': ' founded',\n",
       "      'effect_magnitude': 7.3046875},\n",
       "     {'token_id': 9633, 'token_str': ' owned', 'effect_magnitude': 6.64453125},\n",
       "     {'token_id': 3562,\n",
       "      'token_str': ' created',\n",
       "      'effect_magnitude': 6.3203125},\n",
       "     {'token_id': 17886,\n",
       "      'token_str': ' governed',\n",
       "      'effect_magnitude': 6.1484375},\n",
       "     {'token_id': 7513, 'token_str': 'lik', 'effect_magnitude': 5.7421875},\n",
       "     {'token_id': 2931,\n",
       "      'token_str': ' defined',\n",
       "      'effect_magnitude': 5.37890625},\n",
       "     {'token_id': 11658,\n",
       "      'token_str': ' operated',\n",
       "      'effect_magnitude': 5.33984375},\n",
       "     {'token_id': 39384,\n",
       "      'token_str': ' shareholder',\n",
       "      'effect_magnitude': 5.30859375},\n",
       "     {'token_id': 17382,\n",
       "      'token_str': ' equity',\n",
       "      'effect_magnitude': 5.2734375},\n",
       "     {'token_id': 10323,\n",
       "      'token_str': ' basically',\n",
       "      'effect_magnitude': 5.2265625}],\n",
       "    'top_suppressed': [{'token_id': 339,\n",
       "      'token_str': 'se',\n",
       "      'effect_magnitude': -5.265625},\n",
       "     {'token_id': 3, 'token_str': '\"', 'effect_magnitude': -5.25},\n",
       "     {'token_id': 9685, 'token_str': ' wet', 'effect_magnitude': -4.92578125},\n",
       "     {'token_id': 12561,\n",
       "      'token_str': ' breakfast',\n",
       "      'effect_magnitude': -4.90625},\n",
       "     {'token_id': 33196,\n",
       "      'token_str': ' reservations',\n",
       "      'effect_magnitude': -4.890625},\n",
       "     {'token_id': 1239, 'token_str': ' read', 'effect_magnitude': -4.83203125},\n",
       "     {'token_id': 9410, 'token_str': ' contents', 'effect_magnitude': -4.75},\n",
       "     {'token_id': 12958,\n",
       "      'token_str': ' guests',\n",
       "      'effect_magnitude': -4.7265625},\n",
       "     {'token_id': 50276, 'token_str': '  ', 'effect_magnitude': -4.6484375},\n",
       "     {'token_id': 4753,\n",
       "      'token_str': ' materials',\n",
       "      'effect_magnitude': -4.63671875}]},\n",
       "   'effect_magnitude': 235.375,\n",
       "   'layers_remaining': 7},\n",
       "  9: {'activation_magnitude': 3.638671875,\n",
       "   'vocab_effect': array([ 0.364 ,  0.1523, -0.4668, ...,  0.1516,  0.1516,  0.1516],\n",
       "         dtype=float16),\n",
       "   'statistics': {'mean': 0.026031494140625,\n",
       "    'std': 0.93896484375,\n",
       "    'variance': 0.88134765625,\n",
       "    'kurtosis': 0.9249889119942298,\n",
       "    'skew': 0.03183024488380593,\n",
       "    'max_effect': 5.6484375,\n",
       "    'min_effect': -4.7734375,\n",
       "    'num_positive': 26055,\n",
       "    'num_negative': 24233,\n",
       "    'num_significant': 13014},\n",
       "   'top_tokens': {'top_boosted': [{'token_id': 11420,\n",
       "      'token_str': ' founded',\n",
       "      'effect_magnitude': 5.6484375},\n",
       "     {'token_id': 4272,\n",
       "      'token_str': ' divided',\n",
       "      'effect_magnitude': 5.4921875},\n",
       "     {'token_id': 9633, 'token_str': ' owned', 'effect_magnitude': 5.15234375},\n",
       "     {'token_id': 10323,\n",
       "      'token_str': ' basically',\n",
       "      'effect_magnitude': 4.91015625},\n",
       "     {'token_id': 7513, 'token_str': 'lik', 'effect_magnitude': 4.76953125},\n",
       "     {'token_id': 17886,\n",
       "      'token_str': ' governed',\n",
       "      'effect_magnitude': 4.7109375},\n",
       "     {'token_id': 3947,\n",
       "      'token_str': ' compet',\n",
       "      'effect_magnitude': 4.64453125},\n",
       "     {'token_id': 3562,\n",
       "      'token_str': ' created',\n",
       "      'effect_magnitude': 4.6328125},\n",
       "     {'token_id': 2931,\n",
       "      'token_str': ' defined',\n",
       "      'effect_magnitude': 4.40234375},\n",
       "     {'token_id': 1754,\n",
       "      'token_str': ' based',\n",
       "      'effect_magnitude': 4.26171875}],\n",
       "    'top_suppressed': [{'token_id': 3,\n",
       "      'token_str': '\"',\n",
       "      'effect_magnitude': -4.7734375},\n",
       "     {'token_id': 42194,\n",
       "      'token_str': ' stranded',\n",
       "      'effect_magnitude': -4.33984375},\n",
       "     {'token_id': 386, 'token_str': 'ant', 'effect_magnitude': -4.3359375},\n",
       "     {'token_id': 937, 'token_str': ',\"', 'effect_magnitude': -4.21875},\n",
       "     {'token_id': 23186, 'token_str': ' strand', 'effect_magnitude': -4.15625},\n",
       "     {'token_id': 11062, 'token_str': ' injured', 'effect_magnitude': -4.125},\n",
       "     {'token_id': 339, 'token_str': 'se', 'effect_magnitude': -4.09375},\n",
       "     {'token_id': 10856,\n",
       "      'token_str': ' cable',\n",
       "      'effect_magnitude': -4.08203125},\n",
       "     {'token_id': 321, 'token_str': 'ur', 'effect_magnitude': -4.0234375},\n",
       "     {'token_id': 643,\n",
       "      'token_str': ' other',\n",
       "      'effect_magnitude': -3.9765625}]},\n",
       "   'effect_magnitude': 210.625,\n",
       "   'layers_remaining': 6},\n",
       "  10: {'activation_magnitude': 4.02734375,\n",
       "   'vocab_effect': array([ 0.6475,  0.2104, -1.022 , ...,  0.2102,  0.2102,  0.2102],\n",
       "         dtype=float16),\n",
       "   'statistics': {'mean': 0.033111572265625,\n",
       "    'std': 0.96435546875,\n",
       "    'variance': 0.93017578125,\n",
       "    'kurtosis': 1.3408948684564033,\n",
       "    'skew': 0.08136988436052157,\n",
       "    'max_effect': 6.09375,\n",
       "    'min_effect': -5.0546875,\n",
       "    'num_positive': 26116,\n",
       "    'num_negative': 24178,\n",
       "    'num_significant': 13168},\n",
       "   'top_tokens': {'top_boosted': [{'token_id': 9633,\n",
       "      'token_str': ' owned',\n",
       "      'effect_magnitude': 6.09375},\n",
       "     {'token_id': 11420,\n",
       "      'token_str': ' founded',\n",
       "      'effect_magnitude': 6.0390625},\n",
       "     {'token_id': 4272, 'token_str': ' divided', 'effect_magnitude': 5.875},\n",
       "     {'token_id': 11658,\n",
       "      'token_str': ' operated',\n",
       "      'effect_magnitude': 5.296875},\n",
       "     {'token_id': 21884, 'token_str': ' merged', 'effect_magnitude': 5.203125},\n",
       "     {'token_id': 17886, 'token_str': ' governed', 'effect_magnitude': 5.1875},\n",
       "     {'token_id': 10459,\n",
       "      'token_str': ' corporate',\n",
       "      'effect_magnitude': 5.17578125},\n",
       "     {'token_id': 9009,\n",
       "      'token_str': ' implemented',\n",
       "      'effect_magnitude': 5.12109375},\n",
       "     {'token_id': 10323,\n",
       "      'token_str': ' basically',\n",
       "      'effect_magnitude': 5.05078125},\n",
       "     {'token_id': 2931,\n",
       "      'token_str': ' defined',\n",
       "      'effect_magnitude': 5.0390625}],\n",
       "    'top_suppressed': [{'token_id': 386,\n",
       "      'token_str': 'ant',\n",
       "      'effect_magnitude': -5.0546875},\n",
       "     {'token_id': 1218, 'token_str': ' ra', 'effect_magnitude': -4.8828125},\n",
       "     {'token_id': 3, 'token_str': '\"', 'effect_magnitude': -4.84765625},\n",
       "     {'token_id': 937, 'token_str': ',\"', 'effect_magnitude': -4.81640625},\n",
       "     {'token_id': 270, 'token_str': ' b', 'effect_magnitude': -4.7109375},\n",
       "     {'token_id': 9685, 'token_str': ' wet', 'effect_magnitude': -4.6953125},\n",
       "     {'token_id': 256, 'token_str': ' s', 'effect_magnitude': -4.62109375},\n",
       "     {'token_id': 277, 'token_str': ' d', 'effect_magnitude': -4.46484375},\n",
       "     {'token_id': 443, 'token_str': ' G', 'effect_magnitude': -4.33984375},\n",
       "     {'token_id': 8805,\n",
       "      'token_str': ' stone',\n",
       "      'effect_magnitude': -4.22265625}]},\n",
       "   'effect_magnitude': 216.375,\n",
       "   'layers_remaining': 5},\n",
       "  11: {'activation_magnitude': 4.23828125,\n",
       "   'vocab_effect': array([ 1.272 ,  0.3232, -0.8125, ...,  0.3232,  0.3232,  0.3232],\n",
       "         dtype=float16),\n",
       "   'statistics': {'mean': 0.040374755859375,\n",
       "    'std': 0.89501953125,\n",
       "    'variance': 0.80078125,\n",
       "    'kurtosis': 1.1758001189767997,\n",
       "    'skew': -0.23865874253004365,\n",
       "    'max_effect': 4.609375,\n",
       "    'min_effect': -4.51171875,\n",
       "    'num_positive': 27691,\n",
       "    'num_negative': 22595,\n",
       "    'num_significant': 11681},\n",
       "   'top_tokens': {'top_boosted': [{'token_id': 4272,\n",
       "      'token_str': ' divided',\n",
       "      'effect_magnitude': 4.609375},\n",
       "     {'token_id': 27948,\n",
       "      'token_str': ' categorized',\n",
       "      'effect_magnitude': 4.59375},\n",
       "     {'token_id': 17886, 'token_str': ' governed', 'effect_magnitude': 4.5},\n",
       "     {'token_id': 49432,\n",
       "      'token_str': ' mergers',\n",
       "      'effect_magnitude': 4.47265625},\n",
       "     {'token_id': 9633, 'token_str': ' owned', 'effect_magnitude': 4.44921875},\n",
       "     {'token_id': 10323,\n",
       "      'token_str': ' basically',\n",
       "      'effect_magnitude': 4.40234375},\n",
       "     {'token_id': 13739,\n",
       "      'token_str': ' corporation',\n",
       "      'effect_magnitude': 4.3671875},\n",
       "     {'token_id': 11658,\n",
       "      'token_str': ' operated',\n",
       "      'effect_magnitude': 4.3359375},\n",
       "     {'token_id': 12851,\n",
       "      'token_str': ' ownership',\n",
       "      'effect_magnitude': 4.1875},\n",
       "     {'token_id': 1754,\n",
       "      'token_str': ' based',\n",
       "      'effect_magnitude': 4.17578125}],\n",
       "    'top_suppressed': [{'token_id': 896,\n",
       "      'token_str': ' back',\n",
       "      'effect_magnitude': -4.51171875},\n",
       "     {'token_id': 1930, 'token_str': ' side', 'effect_magnitude': -4.390625},\n",
       "     {'token_id': 386, 'token_str': 'ant', 'effect_magnitude': -4.2890625},\n",
       "     {'token_id': 9685, 'token_str': ' wet', 'effect_magnitude': -4.23828125},\n",
       "     {'token_id': 1670, 'token_str': ' ve', 'effect_magnitude': -4.1796875},\n",
       "     {'token_id': 8805, 'token_str': ' stone', 'effect_magnitude': -4.1640625},\n",
       "     {'token_id': 14938,\n",
       "      'token_str': ' regret',\n",
       "      'effect_magnitude': -4.0859375},\n",
       "     {'token_id': 270, 'token_str': ' b', 'effect_magnitude': -4.05859375},\n",
       "     {'token_id': 5870,\n",
       "      'token_str': ' families',\n",
       "      'effect_magnitude': -4.0546875},\n",
       "     {'token_id': 256, 'token_str': ' s', 'effect_magnitude': -4.0546875}]},\n",
       "   'effect_magnitude': 200.875,\n",
       "   'layers_remaining': 4},\n",
       "  12: {'activation_magnitude': 4.796875,\n",
       "   'vocab_effect': array([ 1.178 ,  0.4507, -1.729 , ...,  0.4497,  0.4497,  0.4497],\n",
       "         dtype=float16),\n",
       "   'statistics': {'mean': 0.07196044921875,\n",
       "    'std': 0.91357421875,\n",
       "    'variance': 0.83447265625,\n",
       "    'kurtosis': 1.686863098024057,\n",
       "    'skew': -0.3795248670064771,\n",
       "    'max_effect': 5.43359375,\n",
       "    'min_effect': -5.65234375,\n",
       "    'num_positive': 29115,\n",
       "    'num_negative': 21179,\n",
       "    'num_significant': 11720},\n",
       "   'top_tokens': {'top_boosted': [{'token_id': 13739,\n",
       "      'token_str': ' corporation',\n",
       "      'effect_magnitude': 5.43359375},\n",
       "     {'token_id': 9025,\n",
       "      'token_str': ' division',\n",
       "      'effect_magnitude': 4.99609375},\n",
       "     {'token_id': 27948,\n",
       "      'token_str': ' categorized',\n",
       "      'effect_magnitude': 4.95703125},\n",
       "     {'token_id': 39384,\n",
       "      'token_str': ' shareholder',\n",
       "      'effect_magnitude': 4.7890625},\n",
       "     {'token_id': 32705,\n",
       "      'token_str': ' Companies',\n",
       "      'effect_magnitude': 4.77734375},\n",
       "     {'token_id': 11420,\n",
       "      'token_str': ' founded',\n",
       "      'effect_magnitude': 4.6953125},\n",
       "     {'token_id': 7943,\n",
       "      'token_str': ' characterized',\n",
       "      'effect_magnitude': 4.67578125},\n",
       "     {'token_id': 4272,\n",
       "      'token_str': ' divided',\n",
       "      'effect_magnitude': 4.6484375},\n",
       "     {'token_id': 4413,\n",
       "      'token_str': ' companies',\n",
       "      'effect_magnitude': 4.62890625},\n",
       "     {'token_id': 19156,\n",
       "      'token_str': ' organisation',\n",
       "      'effect_magnitude': 4.5390625}],\n",
       "    'top_suppressed': [{'token_id': 546,\n",
       "      'token_str': ' en',\n",
       "      'effect_magnitude': -5.65234375},\n",
       "     {'token_id': 470, 'token_str': ' 0', 'effect_magnitude': -5.35546875},\n",
       "     {'token_id': 1824, 'token_str': ' water', 'effect_magnitude': -5.1796875},\n",
       "     {'token_id': 10151,\n",
       "      'token_str': ' nearby',\n",
       "      'effect_magnitude': -5.1484375},\n",
       "     {'token_id': 327, 'token_str': ' on', 'effect_magnitude': -5.046875},\n",
       "     {'token_id': 277, 'token_str': ' d', 'effect_magnitude': -5.03515625},\n",
       "     {'token_id': 391, 'token_str': ' r', 'effect_magnitude': -4.99609375},\n",
       "     {'token_id': 443, 'token_str': ' G', 'effect_magnitude': -4.91015625},\n",
       "     {'token_id': 3216,\n",
       "      'token_str': ' ground',\n",
       "      'effect_magnitude': -4.58203125},\n",
       "     {'token_id': 12958,\n",
       "      'token_str': ' guests',\n",
       "      'effect_magnitude': -4.55859375}]},\n",
       "   'effect_magnitude': 205.5,\n",
       "   'layers_remaining': 3},\n",
       "  13: {'activation_magnitude': 6.00390625,\n",
       "   'vocab_effect': array([ 0.5703,  0.2393, -1.063 , ...,  0.2402,  0.2402,  0.2402],\n",
       "         dtype=float16),\n",
       "   'statistics': {'mean': 0.034820556640625,\n",
       "    'std': 0.87451171875,\n",
       "    'variance': 0.7646484375,\n",
       "    'kurtosis': 1.867051928839043,\n",
       "    'skew': -0.031218602547000922,\n",
       "    'max_effect': 5.2734375,\n",
       "    'min_effect': -5.1328125,\n",
       "    'num_positive': 27131,\n",
       "    'num_negative': 23150,\n",
       "    'num_significant': 10716},\n",
       "   'top_tokens': {'top_boosted': [{'token_id': 13644,\n",
       "      'token_str': ' publicly',\n",
       "      'effect_magnitude': 5.2734375},\n",
       "     {'token_id': 27904,\n",
       "      'token_str': ' privately',\n",
       "      'effect_magnitude': 5.265625},\n",
       "     {'token_id': 12851,\n",
       "      'token_str': ' ownership',\n",
       "      'effect_magnitude': 5.16796875},\n",
       "     {'token_id': 30263,\n",
       "      'token_str': ' subsidiary',\n",
       "      'effect_magnitude': 5.125},\n",
       "     {'token_id': 11528,\n",
       "      'token_str': ' profit',\n",
       "      'effect_magnitude': 5.08203125},\n",
       "     {'token_id': 27834,\n",
       "      'token_str': ' profitable',\n",
       "      'effect_magnitude': 5.0625},\n",
       "     {'token_id': 9633, 'token_str': ' owned', 'effect_magnitude': 4.921875},\n",
       "     {'token_id': 9025,\n",
       "      'token_str': ' division',\n",
       "      'effect_magnitude': 4.91015625},\n",
       "     {'token_id': 10726,\n",
       "      'token_str': ' entity',\n",
       "      'effect_magnitude': 4.8984375},\n",
       "     {'token_id': 49432,\n",
       "      'token_str': ' mergers',\n",
       "      'effect_magnitude': 4.6953125}],\n",
       "    'top_suppressed': [{'token_id': 2822,\n",
       "      'token_str': ' near',\n",
       "      'effect_magnitude': -5.1328125},\n",
       "     {'token_id': 9685, 'token_str': ' wet', 'effect_magnitude': -4.49609375},\n",
       "     {'token_id': 2534, 'token_str': ' bar', 'effect_magnitude': -4.41796875},\n",
       "     {'token_id': 8660, 'token_str': ' dust', 'effect_magnitude': -4.41796875},\n",
       "     {'token_id': 10151, 'token_str': ' nearby', 'effect_magnitude': -4.375},\n",
       "     {'token_id': 13750,\n",
       "      'token_str': ' surrounded',\n",
       "      'effect_magnitude': -4.359375},\n",
       "     {'token_id': 391, 'token_str': ' r', 'effect_magnitude': -4.34375},\n",
       "     {'token_id': 327, 'token_str': ' on', 'effect_magnitude': -4.33984375},\n",
       "     {'token_id': 12958,\n",
       "      'token_str': ' guests',\n",
       "      'effect_magnitude': -4.26953125},\n",
       "     {'token_id': 316, 'token_str': 'us', 'effect_magnitude': -4.10546875}]},\n",
       "   'effect_magnitude': 196.25,\n",
       "   'layers_remaining': 2},\n",
       "  14: {'activation_magnitude': 6.93359375,\n",
       "   'vocab_effect': array([ 0.3838 ,  0.02148, -0.2344 , ...,  0.02246,  0.02246,  0.02246],\n",
       "         dtype=float16),\n",
       "   'statistics': {'mean': -0.002262115478515625,\n",
       "    'std': 0.8955078125,\n",
       "    'variance': 0.8017578125,\n",
       "    'kurtosis': 1.4816264885963912,\n",
       "    'skew': -0.017694549531745235,\n",
       "    'max_effect': 5.69921875,\n",
       "    'min_effect': -4.65234375,\n",
       "    'num_positive': 25531,\n",
       "    'num_negative': 24752,\n",
       "    'num_significant': 11404},\n",
       "   'top_tokens': {'top_boosted': [{'token_id': 13644,\n",
       "      'token_str': ' publicly',\n",
       "      'effect_magnitude': 5.69921875},\n",
       "     {'token_id': 3977, 'token_str': ' led', 'effect_magnitude': 5.609375},\n",
       "     {'token_id': 1481, 'token_str': ' head', 'effect_magnitude': 5.5703125},\n",
       "     {'token_id': 27904,\n",
       "      'token_str': ' privately',\n",
       "      'effect_magnitude': 5.23046875},\n",
       "     {'token_id': 11217,\n",
       "      'token_str': ' incorporated',\n",
       "      'effect_magnitude': 5.08984375},\n",
       "     {'token_id': 27834,\n",
       "      'token_str': ' profitable',\n",
       "      'effect_magnitude': 4.8359375},\n",
       "     {'token_id': 1754, 'token_str': ' based', 'effect_magnitude': 4.7265625},\n",
       "     {'token_id': 17886,\n",
       "      'token_str': ' governed',\n",
       "      'effect_magnitude': 4.56640625},\n",
       "     {'token_id': 12851,\n",
       "      'token_str': ' ownership',\n",
       "      'effect_magnitude': 4.5546875},\n",
       "     {'token_id': 10726,\n",
       "      'token_str': ' entity',\n",
       "      'effect_magnitude': 4.46484375}],\n",
       "    'top_suppressed': [{'token_id': 21018,\n",
       "      'token_str': ' interrupted',\n",
       "      'effect_magnitude': -4.65234375},\n",
       "     {'token_id': 13750,\n",
       "      'token_str': ' surrounded',\n",
       "      'effect_magnitude': -4.5859375},\n",
       "     {'token_id': 2534, 'token_str': ' bar', 'effect_magnitude': -4.3671875},\n",
       "     {'token_id': 14402, 'token_str': ' pic', 'effect_magnitude': -4.2265625},\n",
       "     {'token_id': 38149,\n",
       "      'token_str': ' soaked',\n",
       "      'effect_magnitude': -4.1640625},\n",
       "     {'token_id': 21499,\n",
       "      'token_str': ' flank',\n",
       "      'effect_magnitude': -4.1171875},\n",
       "     {'token_id': 2822, 'token_str': ' near', 'effect_magnitude': -4.1015625},\n",
       "     {'token_id': 10151,\n",
       "      'token_str': ' nearby',\n",
       "      'effect_magnitude': -3.9921875},\n",
       "     {'token_id': 8660, 'token_str': ' dust', 'effect_magnitude': -3.93359375},\n",
       "     {'token_id': 41240,\n",
       "      'token_str': ' sandy',\n",
       "      'effect_magnitude': -3.91796875}]},\n",
       "   'effect_magnitude': 200.875,\n",
       "   'layers_remaining': 1},\n",
       "  15: {'activation_magnitude': 8.75,\n",
       "   'vocab_effect': array([ 0.3086 , -0.0957 ,  0.03125, ..., -0.0957 , -0.0957 , -0.0957 ],\n",
       "         dtype=float16),\n",
       "   'statistics': {'mean': -0.055145263671875,\n",
       "    'std': 0.95068359375,\n",
       "    'variance': 0.904296875,\n",
       "    'kurtosis': 0.8907118100098428,\n",
       "    'skew': 0.17559543082878154,\n",
       "    'max_effect': 6.02734375,\n",
       "    'min_effect': -4.7265625,\n",
       "    'num_positive': 23026,\n",
       "    'num_negative': 27244,\n",
       "    'num_significant': 13291},\n",
       "   'top_tokens': {'top_boosted': [{'token_id': 13644,\n",
       "      'token_str': ' publicly',\n",
       "      'effect_magnitude': 6.02734375},\n",
       "     {'token_id': 27904,\n",
       "      'token_str': ' privately',\n",
       "      'effect_magnitude': 5.33984375},\n",
       "     {'token_id': 1481, 'token_str': ' head', 'effect_magnitude': 5.23828125},\n",
       "     {'token_id': 1345, 'token_str': ' public', 'effect_magnitude': 4.8359375},\n",
       "     {'token_id': 11217,\n",
       "      'token_str': ' incorporated',\n",
       "      'effect_magnitude': 4.82421875},\n",
       "     {'token_id': 3055, 'token_str': ' private', 'effect_magnitude': 4.46875},\n",
       "     {'token_id': 27834,\n",
       "      'token_str': ' profitable',\n",
       "      'effect_magnitude': 4.40625},\n",
       "     {'token_id': 11947,\n",
       "      'token_str': ' trading',\n",
       "      'effect_magnitude': 4.15234375},\n",
       "     {'token_id': 41720, 'token_str': ' Nokia', 'effect_magnitude': 4.1328125},\n",
       "     {'token_id': 21314, 'token_str': ' IBM', 'effect_magnitude': 4.0625}],\n",
       "    'top_suppressed': [{'token_id': 14402,\n",
       "      'token_str': ' pic',\n",
       "      'effect_magnitude': -4.7265625},\n",
       "     {'token_id': 41240, 'token_str': ' sandy', 'effect_magnitude': -4.140625},\n",
       "     {'token_id': 38149,\n",
       "      'token_str': ' soaked',\n",
       "      'effect_magnitude': -4.015625},\n",
       "     {'token_id': 38907,\n",
       "      'token_str': ' dusty',\n",
       "      'effect_magnitude': -3.8828125},\n",
       "     {'token_id': 3292, 'token_str': 'aving', 'effect_magnitude': -3.87109375},\n",
       "     {'token_id': 13750,\n",
       "      'token_str': ' surrounded',\n",
       "      'effect_magnitude': -3.8671875},\n",
       "     {'token_id': 21499,\n",
       "      'token_str': ' flank',\n",
       "      'effect_magnitude': -3.818359375},\n",
       "     {'token_id': 21018,\n",
       "      'token_str': ' interrupted',\n",
       "      'effect_magnitude': -3.81640625},\n",
       "     {'token_id': 12330,\n",
       "      'token_str': ' tears',\n",
       "      'effect_magnitude': -3.775390625},\n",
       "     {'token_id': 48490,\n",
       "      'token_str': ' sprayed',\n",
       "      'effect_magnitude': -3.765625}]},\n",
       "   'effect_magnitude': 213.625,\n",
       "   'layers_remaining': 0}},\n",
       " 'propagation_analysis': {'propagation_pattern': 'amplifying',\n",
       "  'magnitude_trajectory': [0.0,\n",
       "   0.0,\n",
       "   207.75,\n",
       "   226.125,\n",
       "   228.875,\n",
       "   222.75,\n",
       "   228.125,\n",
       "   222.5,\n",
       "   235.375,\n",
       "   210.625,\n",
       "   216.375,\n",
       "   200.875,\n",
       "   205.5,\n",
       "   196.25,\n",
       "   200.875,\n",
       "   213.625],\n",
       "  'activation_trajectory': [0.0,\n",
       "   0.0,\n",
       "   3.841796875,\n",
       "   3.958984375,\n",
       "   3.4765625,\n",
       "   3.294921875,\n",
       "   3.46484375,\n",
       "   3.67578125,\n",
       "   3.724609375,\n",
       "   3.638671875,\n",
       "   4.02734375,\n",
       "   4.23828125,\n",
       "   4.796875,\n",
       "   6.00390625,\n",
       "   6.93359375,\n",
       "   8.75],\n",
       "  'critical_layers': [1, 2],\n",
       "  'amplification_ratio': 0.0,\n",
       "  'peak_layer': 8},\n",
       " 'convergence_analysis': {'convergence_scores': {0: nan,\n",
       "   1: nan,\n",
       "   2: 0.07342529296875,\n",
       "   3: 0.124755859375,\n",
       "   4: 0.1009521484375,\n",
       "   5: 0.19580078125,\n",
       "   6: 0.14599609375,\n",
       "   7: 0.21044921875,\n",
       "   8: 0.31591796875,\n",
       "   9: 0.3828125,\n",
       "   10: 0.47900390625,\n",
       "   11: 0.391357421875,\n",
       "   12: 0.492431640625,\n",
       "   13: 0.71875,\n",
       "   14: 0.83642578125,\n",
       "   15: 1.0},\n",
       "  'convergence_layer': 15,\n",
       "  'stable_tokens': [' incorporated',\n",
       "   ' head',\n",
       "   ' publicly',\n",
       "   ' privately',\n",
       "   ' profitable'],\n",
       "  'final_similarity': 1.0},\n",
       " 'summary': {'analysis_type': 'full_projection',\n",
       "  'total_layers_analyzed': 16,\n",
       "  'peak_effect_layer': 8,\n",
       "  'final_effect_magnitude': 213.625,\n",
       "  'magnitude_range': [0.0, 235.375],\n",
       "  'effect_evolution': 'increasing'}}"
      ]
     },
     "execution_count": 31,
     "metadata": {},
     "output_type": "execute_result"
    }
   ],
   "source": [
    "cascade_results"
   ]
  },
  {
   "cell_type": "code",
   "execution_count": 25,
   "metadata": {},
   "outputs": [
    {
     "name": "stdout",
     "output_type": "stream",
     "text": [
      "Running cascade method comparison for Layer 1 mlp.down_proj.weight[1764, 1710]...\n",
      "Running cascade analysis using full_projection method...\n",
      "Capturing baseline activations...\n",
      "Capturing modified activations...\n"
     ]
    },
    {
     "name": "stderr",
     "output_type": "stream",
     "text": [
      "2025-06-26 19:30:59,784 - SuperWeightManager_13509139552 - INFO - Successfully scaled 1/1 super weights by 0.000\n",
      "2025-06-26 19:30:59,866 - SuperWeightManager_13509139552 - INFO - Restored 1/1 weights\n"
     ]
    },
    {
     "name": "stdout",
     "output_type": "stream",
     "text": [
      "Projecting activations through 16 layers...\n",
      "  Processing layer 15/15\n",
      "Running cascade analysis using residual_stream method...\n",
      "Capturing residual stream...\n",
      "Capturing residual stream using universal layer capture...\n"
     ]
    },
    {
     "name": "stderr",
     "output_type": "stream",
     "text": [
      "2025-06-26 19:31:00,303 - SuperWeightManager_13509139552 - INFO - Successfully scaled 1/1 super weights by 0.000\n",
      "2025-06-26 19:31:00,391 - SuperWeightManager_13509139552 - INFO - Restored 1/1 weights\n"
     ]
    },
    {
     "name": "stdout",
     "output_type": "stream",
     "text": [
      "Capturing residual stream using universal layer capture...\n",
      "Analyzing residual differences across 16 layers...\n",
      "  Processing layer 15/15\n",
      "\n",
      "============================================================\n",
      "CASCADE METHODS COMPARISON: Layer 1 mlp.down_proj.weight[1764, 1710]\n",
      "============================================================\n",
      "\n",
      "📊 COMPARISON METRICS:\n",
      "  Final effects correlation: 0.755\n",
      "  Final effects cosine similarity: 0.755\n",
      "  Magnitude trajectory correlation: 0.580\n",
      "  Full projection final magnitude: 283.2500\n",
      "  Residual stream final magnitude: 236.0921\n",
      "\n",
      "🎯 SUMMARY:\n",
      "  Methods agree: True\n",
      "  Preferred method: full_projection\n",
      "  Consistency score: 0.667\n",
      "\n",
      "💡 INTERPRETATION:\n",
      "  ✅ Both methods show consistent results\n",
      "  → Super weight effects are stable across analysis approaches\n",
      "\n",
      "------------------------------------------------------------\n"
     ]
    }
   ],
   "source": [
    "# Compare both methods\n",
    "comparison = session.analyzer.vocabulary_analyzer.compare_cascade_methods(sw[0])\n",
    "session.analyzer.vocabulary_analyzer.display_cascade_comparison(comparison)"
   ]
  },
  {
   "cell_type": "code",
   "execution_count": 16,
   "metadata": {},
   "outputs": [
    {
     "ename": "KeyError",
     "evalue": "'residual_effects'",
     "output_type": "error",
     "traceback": [
      "\u001b[0;31m---------------------------------------------------------------------------\u001b[0m",
      "\u001b[0;31mKeyError\u001b[0m                                  Traceback (most recent call last)",
      "Cell \u001b[0;32mIn[16], line 2\u001b[0m\n\u001b[1;32m      1\u001b[0m \u001b[38;5;66;03m# Examine how vocabulary effects change at each layer\u001b[39;00m\n\u001b[0;32m----> 2\u001b[0m residual_effects \u001b[38;5;241m=\u001b[39m \u001b[43mcascade_results\u001b[49m\u001b[43m[\u001b[49m\u001b[38;5;124;43m'\u001b[39;49m\u001b[38;5;124;43mresidual_effects\u001b[39;49m\u001b[38;5;124;43m'\u001b[39;49m\u001b[43m]\u001b[49m\n\u001b[1;32m      4\u001b[0m \u001b[38;5;28;01mfor\u001b[39;00m layer_idx \u001b[38;5;129;01min\u001b[39;00m \u001b[38;5;28msorted\u001b[39m(residual_effects\u001b[38;5;241m.\u001b[39mkeys()):\n\u001b[1;32m      5\u001b[0m     layer_data \u001b[38;5;241m=\u001b[39m residual_effects[layer_idx]\n",
      "\u001b[0;31mKeyError\u001b[0m: 'residual_effects'"
     ]
    }
   ],
   "source": [
    "# Examine how vocabulary effects change at each layer\n",
    "residual_effects = cascade_results['residual_effects']\n",
    "\n",
    "for layer_idx in sorted(residual_effects.keys()):\n",
    "    layer_data = residual_effects[layer_idx]\n",
    "    print(f\"\\nLayer {layer_idx}:\")\n",
    "    print(f\"  Direct effect magnitude: {layer_data['effect_magnitude']:.4f}\")\n",
    "    print(f\"  Cumulative magnitude: {layer_data['cumulative_magnitude']:.4f}\")\n",
    "    print(f\"  Amplification factor: {layer_data['amplification_factor']:.3f}\")\n",
    "    \n",
    "    # Look at top affected tokens at this layer\n",
    "    top_tokens = layer_data['top_tokens']['top_boosted'][:5]\n",
    "    for token in top_tokens:\n",
    "        print(f\"    {token['token_str']}: {token['effect_magnitude']:+.3f}\")"
   ]
  },
  {
   "cell_type": "markdown",
   "metadata": {},
   "source": [
    "## Perplexity analysis"
   ]
  },
  {
   "cell_type": "code",
   "execution_count": 8,
   "metadata": {},
   "outputs": [
    {
     "name": "stderr",
     "output_type": "stream",
     "text": [
      "huggingface/tokenizers: The current process just got forked, after parallelism has already been used. Disabling parallelism to avoid deadlocks...\n",
      "To disable this warning, you can either:\n",
      "\t- Avoid using `tokenizers` before the fork if possible\n",
      "\t- Explicitly set the environment variable TOKENIZERS_PARALLELISM=(true | false)\n",
      "2025-06-10 01:15:36,807 - SuperWeightManager_13442570496 - INFO - Successfully scaled 1/1 super weights by 0.000\n",
      "2025-06-10 01:16:41,770 - SuperWeightManager_13442570496 - INFO - Restored 1/1 weights\n"
     ]
    }
   ],
   "source": [
    "perplexity_impact = session.analyzer.metrics_analyzer.measure_perplexity_impact(sophisticated_sw, n_samples=500)"
   ]
  },
  {
   "cell_type": "code",
   "execution_count": 9,
   "metadata": {},
   "outputs": [
    {
     "data": {
      "text/plain": [
       "{'super_weight': SuperWeight(layer=1, coords=[1764, 1710], input=-401.50, output=-262.00),\n",
       " 'baseline_perplexity': 17.51461410522461,\n",
       " 'modified_perplexity': 9591.20703125,\n",
       " 'perplexity_ratio': 547.6116672412978,\n",
       " 'perplexity_increase': 9573.692417144775,\n",
       " 'impact_severity': 'catastrophic',\n",
       " 'dataset_info': {'name': 'wikitext',\n",
       "  'config': 'wikitext-2-raw-v1',\n",
       "  'split': 'test',\n",
       "  'n_samples': 500}}"
      ]
     },
     "execution_count": 9,
     "metadata": {},
     "output_type": "execute_result"
    }
   ],
   "source": [
    "perplexity_impact"
   ]
  },
  {
   "cell_type": "code",
   "execution_count": 72,
   "metadata": {},
   "outputs": [
    {
     "name": "stdout",
     "output_type": "stream",
     "text": [
      "Layer 1 mlp.down_proj.weight[1764, 1710]\n"
     ]
    },
    {
     "name": "stderr",
     "output_type": "stream",
     "text": [
      "2025-06-17 17:38:35,116 - SuperWeightManager_13406116624 - INFO - Successfully scaled 1/1 super weights by 0.000\n",
      "2025-06-17 17:39:40,413 - SuperWeightManager_13406116624 - INFO - Restored 1/1 weights\n"
     ]
    },
    {
     "name": "stdout",
     "output_type": "stream",
     "text": [
      "Perplexity impact for Layer 1 mlp.down_proj.weight[1764, 1710]: {'super_weight': SuperWeight(layer=1, coords=[1764, 1710], input=-401.50, output=-262.00), 'baseline_perplexity': 17.51461410522461, 'modified_perplexity': 9591.20703125, 'perplexity_ratio': 547.6116672412978, 'perplexity_increase': 9573.692417144775, 'impact_severity': 'catastrophic', 'dataset_info': {'name': 'wikitext', 'config': 'wikitext-2-raw-v1', 'split': 'test', 'n_samples': 500}}\n",
      "Layer 15 mlp.down_proj.weight[1764, 6840]\n"
     ]
    },
    {
     "name": "stderr",
     "output_type": "stream",
     "text": [
      "2025-06-17 17:40:51,588 - SuperWeightManager_13406116624 - INFO - Successfully scaled 1/1 super weights by 0.000\n",
      "2025-06-17 17:41:56,711 - SuperWeightManager_13406116624 - INFO - Restored 1/1 weights\n"
     ]
    },
    {
     "name": "stdout",
     "output_type": "stream",
     "text": [
      "Perplexity impact for Layer 15 mlp.down_proj.weight[1764, 6840]: {'super_weight': SuperWeight(layer=15, coords=[1764, 6840], input=-283.00, output=415.00), 'baseline_perplexity': 17.51461410522461, 'modified_perplexity': 17.874475479125977, 'perplexity_ratio': 1.0205463489940108, 'perplexity_increase': 0.3598613739013672, 'impact_severity': 'minimal', 'dataset_info': {'name': 'wikitext', 'config': 'wikitext-2-raw-v1', 'split': 'test', 'n_samples': 500}}\n"
     ]
    }
   ],
   "source": [
    "for super_weight in sw:\n",
    "    print(super_weight)\n",
    "    ppl_res = session.analyzer.metrics_analyzer.measure_perplexity_impact(super_weight, n_samples=500)\n",
    "    print(f\"Perplexity impact for {super_weight}: {ppl_res}\")"
   ]
  },
  {
   "cell_type": "code",
   "execution_count": 17,
   "metadata": {},
   "outputs": [
    {
     "data": {
      "application/vnd.jupyter.widget-view+json": {
       "model_id": "e743d2c0eda44ed38f793cc6a24a0abc",
       "version_major": 2,
       "version_minor": 0
      },
      "text/plain": [
       "README.md:   0%|          | 0.00/6.84k [00:00<?, ?B/s]"
      ]
     },
     "metadata": {},
     "output_type": "display_data"
    },
    {
     "data": {
      "application/vnd.jupyter.widget-view+json": {
       "model_id": "540a62d6b0b740008e386d512f2ca6a8",
       "version_major": 2,
       "version_minor": 0
      },
      "text/plain": [
       "hellaswag.py:   0%|          | 0.00/4.36k [00:00<?, ?B/s]"
      ]
     },
     "metadata": {},
     "output_type": "display_data"
    },
    {
     "data": {
      "application/vnd.jupyter.widget-view+json": {
       "model_id": "33c1752771ea44ea8739468b80b8c807",
       "version_major": 2,
       "version_minor": 0
      },
      "text/plain": [
       "dataset_infos.json:   0%|          | 0.00/2.53k [00:00<?, ?B/s]"
      ]
     },
     "metadata": {},
     "output_type": "display_data"
    },
    {
     "name": "stderr",
     "output_type": "stream",
     "text": [
      "2025-06-10 01:49:32,746 - SuperWeightManager_13442570496 - INFO - Successfully scaled 1/1 super weights by 0.000\n",
      "2025-06-10 01:49:55,441 - SuperWeightManager_13442570496 - INFO - Restored 1/1 weights\n"
     ]
    }
   ],
   "source": [
    "accuracy_impact = session.analyzer.metrics_analyzer.measure_accuracy_impact(sophisticated_sw, n_samples=100)"
   ]
  },
  {
   "cell_type": "code",
   "execution_count": 18,
   "metadata": {},
   "outputs": [
    {
     "data": {
      "text/plain": [
       "{'super_weight': SuperWeight(layer=1, coords=[1764, 1710], input=-401.50, output=-262.00),\n",
       " 'task': 'hellaswag',\n",
       " 'baseline_accuracy': 0.57,\n",
       " 'modified_accuracy': 0.37,\n",
       " 'accuracy_drop': 0.19999999999999996,\n",
       " 'accuracy_ratio': 0.6491228070175439,\n",
       " 'impact_severity': 'moderate',\n",
       " 'n_samples': 100}"
      ]
     },
     "execution_count": 18,
     "metadata": {},
     "output_type": "execute_result"
    }
   ],
   "source": [
    "accuracy_impact"
   ]
  },
  {
   "cell_type": "code",
   "execution_count": 19,
   "metadata": {},
   "outputs": [
    {
     "name": "stdout",
     "output_type": "stream",
     "text": [
      "Layer 1 mlp.down_proj.weight[1764, 1710]\n"
     ]
    },
    {
     "name": "stderr",
     "output_type": "stream",
     "text": [
      "2025-06-10 01:51:27,451 - SuperWeightManager_13442570496 - INFO - Successfully scaled 1/1 super weights by 0.000\n",
      "2025-06-10 01:52:12,462 - SuperWeightManager_13442570496 - INFO - Restored 1/1 weights\n"
     ]
    },
    {
     "name": "stdout",
     "output_type": "stream",
     "text": [
      "Accuracy impact for Layer 1 mlp.down_proj.weight[1764, 1710]: {'super_weight': SuperWeight(layer=1, coords=[1764, 1710], input=-401.50, output=-262.00), 'task': 'hellaswag', 'baseline_accuracy': 0.475, 'modified_accuracy': 0.355, 'accuracy_drop': 0.12, 'accuracy_ratio': 0.7473684210526316, 'impact_severity': 'moderate', 'n_samples': 200}\n",
      "Layer 3 mlp.down_proj.weight[1764, 1902]\n"
     ]
    },
    {
     "name": "stderr",
     "output_type": "stream",
     "text": [
      "2025-06-10 01:52:59,266 - SuperWeightManager_13442570496 - INFO - Successfully scaled 1/1 super weights by 0.000\n",
      "2025-06-10 01:53:44,296 - SuperWeightManager_13442570496 - INFO - Restored 1/1 weights\n"
     ]
    },
    {
     "name": "stdout",
     "output_type": "stream",
     "text": [
      "Accuracy impact for Layer 3 mlp.down_proj.weight[1764, 1902]: {'super_weight': SuperWeight(layer=3, coords=[1764, 1902], input=-63.56, output=-64.69), 'task': 'hellaswag', 'baseline_accuracy': 0.475, 'modified_accuracy': 0.465, 'accuracy_drop': 0.009999999999999953, 'accuracy_ratio': 0.9789473684210527, 'impact_severity': 'minimal', 'n_samples': 200}\n",
      "Layer 15 mlp.down_proj.weight[1764, 6840]\n"
     ]
    },
    {
     "name": "stderr",
     "output_type": "stream",
     "text": [
      "2025-06-10 01:54:30,827 - SuperWeightManager_13442570496 - INFO - Successfully scaled 1/1 super weights by 0.000\n",
      "2025-06-10 01:55:15,710 - SuperWeightManager_13442570496 - INFO - Restored 1/1 weights\n"
     ]
    },
    {
     "name": "stdout",
     "output_type": "stream",
     "text": [
      "Accuracy impact for Layer 15 mlp.down_proj.weight[1764, 6840]: {'super_weight': SuperWeight(layer=15, coords=[1764, 6840], input=-283.00, output=415.00), 'task': 'hellaswag', 'baseline_accuracy': 0.475, 'modified_accuracy': 0.47, 'accuracy_drop': 0.0050000000000000044, 'accuracy_ratio': 0.9894736842105263, 'impact_severity': 'minimal', 'n_samples': 200}\n"
     ]
    }
   ],
   "source": [
    "for super_weight in sw:\n",
    "    print(super_weight)\n",
    "    acc_res = session.analyzer.metrics_analyzer.measure_accuracy_impact(super_weight, n_samples=200)\n",
    "    print(f\"Accuracy impact for {super_weight}: {acc_res}\")"
   ]
  },
  {
   "cell_type": "code",
   "execution_count": 27,
   "metadata": {},
   "outputs": [
    {
     "data": {
      "text/plain": [
       "OlmoForCausalLM(\n",
       "  (model): OlmoModel(\n",
       "    (embed_tokens): Embedding(50304, 2048, padding_idx=1)\n",
       "    (layers): ModuleList(\n",
       "      (0-15): 16 x OlmoDecoderLayer(\n",
       "        (self_attn): OlmoAttention(\n",
       "          (q_proj): Linear(in_features=2048, out_features=2048, bias=False)\n",
       "          (k_proj): Linear(in_features=2048, out_features=2048, bias=False)\n",
       "          (v_proj): Linear(in_features=2048, out_features=2048, bias=False)\n",
       "          (o_proj): Linear(in_features=2048, out_features=2048, bias=False)\n",
       "        )\n",
       "        (mlp): OlmoMLP(\n",
       "          (gate_proj): Linear(in_features=2048, out_features=8192, bias=False)\n",
       "          (up_proj): Linear(in_features=2048, out_features=8192, bias=False)\n",
       "          (down_proj): Linear(in_features=8192, out_features=2048, bias=False)\n",
       "          (act_fn): SiLU()\n",
       "        )\n",
       "        (input_layernorm): OlmoLayerNorm()\n",
       "        (post_attention_layernorm): OlmoLayerNorm()\n",
       "      )\n",
       "    )\n",
       "    (norm): OlmoLayerNorm()\n",
       "    (rotary_emb): OlmoRotaryEmbedding()\n",
       "  )\n",
       "  (lm_head): Linear(in_features=2048, out_features=50304, bias=False)\n",
       ")"
      ]
     },
     "execution_count": 27,
     "metadata": {},
     "output_type": "execute_result"
    }
   ],
   "source": [
    "session.model"
   ]
  },
  {
   "cell_type": "markdown",
   "metadata": {},
   "source": [
    "## Super Activation Source Analysis"
   ]
  },
  {
   "cell_type": "code",
   "execution_count": 76,
   "metadata": {},
   "outputs": [
    {
     "name": "stderr",
     "output_type": "stream",
     "text": [
      "2025-06-17 18:01:32,736 - SuperWeightAnalyzer_13406117104 - INFO - Tracing activation source for Layer 1 mlp.down_proj.weight[1764, 1710]\n",
      "2025-06-17 18:01:34,246 - SuperWeightAnalyzer_13406117104 - INFO - DOWN PROJ INPUT channel 1710: max_val = 401.50\n"
     ]
    },
    {
     "name": "stdout",
     "output_type": "stream",
     "text": [
      "🔍 Activation Source Analysis:\n",
      "Pathway: Layer 1, Channel 1710\n",
      "Key findings: ['Massive amplification detected: 415.9x increase', 'Extremely large activation magnitude: 401.5', 'Gate and up projections contribute roughly equally']\n",
      "Total amplification: 415.9x\n",
      "\n",
      "📍 Top Contributing Tokens:\n",
      "  Apple: -401.5\n",
      "   company: -0.0\n",
      "   tech: 0.0\n",
      "   worldwide: 0.0\n",
      "   Inc: 0.0\n"
     ]
    }
   ],
   "source": [
    "trace_result = session.analyzer.trace_activation_source(sw[0])\n",
    "\n",
    "# Print the key findings\n",
    "print(\"🔍 Activation Source Analysis:\")\n",
    "print(f\"Pathway: {trace_result['pathway_analysis']['super_weight_location']}\")\n",
    "print(f\"Key findings: {trace_result['pathway_analysis']['key_findings']}\")\n",
    "print(f\"Total amplification: {trace_result['computational_flow']['amplification_factors']['total_amplification']:.1f}x\")\n",
    "\n",
    "# See which tokens contribute most\n",
    "print(\"\\n📍 Top Contributing Tokens:\")\n",
    "for contrib in trace_result['token_contributions'][:5]:\n",
    "    print(f\"  {contrib['token']}: {contrib['activation_value']:.1f}\")"
   ]
  },
  {
   "cell_type": "code",
   "execution_count": 77,
   "metadata": {},
   "outputs": [
    {
     "data": {
      "text/plain": [
       "{'super_weight': SuperWeight(layer=1, coords=[1764, 1710], input=-401.50, output=-262.00),\n",
       " 'input_text': 'Apple Inc. is a worldwide tech company.',\n",
       " 'tokens': ['Apple',\n",
       "  ' Inc',\n",
       "  '.',\n",
       "  ' is',\n",
       "  ' a',\n",
       "  ' worldwide',\n",
       "  ' tech',\n",
       "  ' company',\n",
       "  '.'],\n",
       " 'pathway_analysis': {'super_weight_location': 'Layer 1, Channel 1710',\n",
       "  'pathway_status': 'complete',\n",
       "  'key_findings': ['Massive amplification detected: 415.9x increase',\n",
       "   'Extremely large activation magnitude: 401.5',\n",
       "   'Gate and up projections contribute roughly equally'],\n",
       "  'activation_magnitude_progression': {'input_magnitude': 0.96533203125,\n",
       "   'output_magnitude': 401.5,\n",
       "   'total_amplification_factor': 415.91906929691453}},\n",
       " 'token_contributions': [{'position': 0,\n",
       "   'token': 'Apple',\n",
       "   'activation_value': -401.5,\n",
       "   'absolute_activation': 401.5,\n",
       "   'is_max_contributor': True},\n",
       "  {'position': 7,\n",
       "   'token': ' company',\n",
       "   'activation_value': -0.00027060508728027344,\n",
       "   'absolute_activation': 0.00027060508728027344,\n",
       "   'is_max_contributor': False},\n",
       "  {'position': 6,\n",
       "   'token': ' tech',\n",
       "   'activation_value': 0.00015676021575927734,\n",
       "   'absolute_activation': 0.00015676021575927734,\n",
       "   'is_max_contributor': False},\n",
       "  {'position': 5,\n",
       "   'token': ' worldwide',\n",
       "   'activation_value': 3.057718276977539e-05,\n",
       "   'absolute_activation': 3.057718276977539e-05,\n",
       "   'is_max_contributor': False},\n",
       "  {'position': 1,\n",
       "   'token': ' Inc',\n",
       "   'activation_value': 2.4974346160888672e-05,\n",
       "   'absolute_activation': 2.4974346160888672e-05,\n",
       "   'is_max_contributor': False},\n",
       "  {'position': 8,\n",
       "   'token': '.',\n",
       "   'activation_value': -2.3245811462402344e-06,\n",
       "   'absolute_activation': 2.3245811462402344e-06,\n",
       "   'is_max_contributor': False},\n",
       "  {'position': 4,\n",
       "   'token': ' a',\n",
       "   'activation_value': 4.172325134277344e-07,\n",
       "   'absolute_activation': 4.172325134277344e-07,\n",
       "   'is_max_contributor': False},\n",
       "  {'position': 2,\n",
       "   'token': '.',\n",
       "   'activation_value': 5.960464477539063e-08,\n",
       "   'absolute_activation': 5.960464477539063e-08,\n",
       "   'is_max_contributor': False},\n",
       "  {'position': 3,\n",
       "   'token': ' is',\n",
       "   'activation_value': 0.0,\n",
       "   'absolute_activation': 0.0,\n",
       "   'is_max_contributor': False}],\n",
       " 'computational_flow': {'activation_amplification_stages': {'stage_1_mlp_input': 0.96533203125,\n",
       "   'stage_2_gate_proj': 21.890625,\n",
       "   'stage_3_up_proj': 26.34375,\n",
       "   'stage_4_hadamard_result': 401.5,\n",
       "   'final_super_weight_output': 'unknown'},\n",
       "  'critical_computation_step': 'both_gate_and_up_amplification',\n",
       "  'amplification_factors': {'mlp_input_to_gate': 22.67678300455235,\n",
       "   'mlp_input_to_up': 27.289833080424888,\n",
       "   'gate_times_up_efficiency': 0.6962252856161883,\n",
       "   'total_amplification': 415.91906929691453}}}"
      ]
     },
     "execution_count": 77,
     "metadata": {},
     "output_type": "execute_result"
    }
   ],
   "source": [
    "trace_result"
   ]
  },
  {
   "cell_type": "code",
   "execution_count": 80,
   "metadata": {},
   "outputs": [
    {
     "name": "stderr",
     "output_type": "stream",
     "text": [
      "2025-06-17 18:11:50,404 - SuperWeightAnalyzer_13406117104 - INFO - Tracing backwards to find source of super activation for Layer 1 mlp.down_proj.weight[1764, 1710]\n",
      "2025-06-17 18:11:51,313 - SuperWeightAnalyzer_13406117104 - INFO - 🎯 Layer 0 final output channel 1710: max = 0.047\n"
     ]
    }
   ],
   "source": [
    "# trace activation backwards\n",
    "backward_trase_result = session.analyzer.trace_activation_backwards(sw[0])"
   ]
  },
  {
   "cell_type": "code",
   "execution_count": 81,
   "metadata": {},
   "outputs": [
    {
     "data": {
      "text/plain": [
       "{'super_weight': SuperWeight(layer=1, coords=[1764, 1710], input=-401.50, output=-262.00),\n",
       " 'input_text': 'Apple Inc. is a worldwide tech company.',\n",
       " 'tokens': ['Apple',\n",
       "  ' Inc',\n",
       "  '.',\n",
       "  ' is',\n",
       "  ' a',\n",
       "  ' worldwide',\n",
       "  ' tech',\n",
       "  ' company',\n",
       "  '.'],\n",
       " 'source_analysis': {'progression_summary': [{'component': 'Input Embeddings',\n",
       "    'max_magnitude': 0.0076751708984375,\n",
       "    'max_position': 5},\n",
       "   {'component': 'Layer 0 Attention Output',\n",
       "    'max_magnitude': 0.0266571044921875,\n",
       "    'max_position': 7},\n",
       "   {'component': 'Layer 0 MLP Output',\n",
       "    'max_magnitude': 0.048309326171875,\n",
       "    'max_position': 6},\n",
       "   {'component': 'Layer 0 Final Output (→ Layer 1 Input)',\n",
       "    'max_magnitude': 0.04656982421875,\n",
       "    'max_position': 6},\n",
       "   {'component': 'Layer 1 Attention Output',\n",
       "    'max_magnitude': 0.050628662109375,\n",
       "    'max_position': 0}],\n",
       "  'major_amplification_steps': [],\n",
       "  'source_identification': 'Input Embeddings',\n",
       "  'key_insights': ['Total amplification from source: 6.6x']},\n",
       " 'component_contributions': {'input_embeddings': {'values': array([-0.002655 , -0.007317 , -0.0001656, -0.003    ,  0.00448  ,\n",
       "           0.007675 , -0.007195 ,  0.007473 , -0.0001656], dtype=float16),\n",
       "   'max_magnitude': 0.0076751708984375,\n",
       "   'max_position': 5,\n",
       "   'component_name': 'Input Embeddings'},\n",
       "  'layer0_attention_output': {'values': array([ 2.351e-02, -1.836e-03, -1.386e-02,  6.577e-03, -8.529e-05,\n",
       "          -3.733e-03,  8.926e-03,  2.666e-02,  5.310e-03], dtype=float16),\n",
       "   'max_magnitude': 0.0266571044921875,\n",
       "   'max_position': 7,\n",
       "   'component_name': 'Layer 0 Attention Output'},\n",
       "  'layer0_mlp_output': {'values': array([-0.01279 ,  0.004772,  0.00652 , -0.01604 ,  0.01564 ,  0.02968 ,\n",
       "          -0.0483  , -0.004337, -0.01142 ], dtype=float16),\n",
       "   'max_magnitude': 0.048309326171875,\n",
       "   'max_position': 6,\n",
       "   'component_name': 'Layer 0 MLP Output'},\n",
       "  'layer0_final_output': {'values': array([ 0.00807 , -0.004383, -0.00751 , -0.01246 ,  0.02003 ,  0.03363 ,\n",
       "          -0.04657 ,  0.02979 , -0.006275], dtype=float16),\n",
       "   'max_magnitude': 0.04656982421875,\n",
       "   'max_position': 6,\n",
       "   'component_name': 'Layer 0 Final Output (→ Layer 1 Input)'},\n",
       "  'target_layer_attention_output': {'values': array([-0.05063 ,  0.02242 , -0.02399 ,  0.003202, -0.014145,  0.01148 ,\n",
       "           0.03055 , -0.01472 , -0.02191 ], dtype=float16),\n",
       "   'max_magnitude': 0.050628662109375,\n",
       "   'max_position': 0,\n",
       "   'component_name': 'Layer 1 Attention Output'}}}"
      ]
     },
     "execution_count": 81,
     "metadata": {},
     "output_type": "execute_result"
    }
   ],
   "source": [
    "backward_trase_result"
   ]
  },
  {
   "cell_type": "code",
   "execution_count": 22,
   "metadata": {},
   "outputs": [
    {
     "data": {
      "text/plain": [
       "SuperWeight(layer=1, coords=[1764, 1710], input=-401.50, output=-262.00)"
      ]
     },
     "execution_count": 22,
     "metadata": {},
     "output_type": "execute_result"
    }
   ],
   "source": [
    "sw[0]"
   ]
  },
  {
   "cell_type": "markdown",
   "metadata": {},
   "source": [
    "## Finding strategies for zero activations"
   ]
  },
  {
   "cell_type": "code",
   "execution_count": 23,
   "metadata": {},
   "outputs": [
    {
     "name": "stderr",
     "output_type": "stream",
     "text": [
      "2025-06-26 19:30:09,938 - SuperWeightAnalyzer_13509141712 - INFO - Mathematical super activation analysis for Layer 1 mlp.down_proj.weight[1764, 1710]\n",
      "2025-06-26 19:30:09,939 - SuperActivationAnalyzer_13509141808 - INFO - Super activation analysis for Layer 1 mlp.down_proj.weight[1764, 1710]\n",
      "2025-06-26 19:30:09,941 - SuperActivationAnalyzer_13509141808 - INFO - Detected architecture: MLPArchitectureInfo(type=gated_mlp, activation=silu, components=['gate', 'up', 'down'])\n"
     ]
    }
   ],
   "source": [
    "mathematical_analysis = session.analyzer.mathematical_super_activation_analysis(sw[0])"
   ]
  },
  {
   "cell_type": "code",
   "execution_count": 24,
   "metadata": {},
   "outputs": [
    {
     "data": {
      "text/plain": [
       "{'input_analysis': {'input_vector_shape': [2048],\n",
       "  'input_magnitude': 45.21875,\n",
       "  'input_mean': 4.470348358154297e-06,\n",
       "  'input_std': 0.99951171875},\n",
       " 'step1_gate_projection': {'operation': 'gate_output = W_gate @ x',\n",
       "  'bias_term': None,\n",
       "  'result_target_channel': 15.2421875,\n",
       "  'has_bias': False},\n",
       " 'step2_activation': {'operation': 'activated_gate = SILU(gate_output)',\n",
       "  'input_to_activation': 15.2421875,\n",
       "  'activation_output_target_channel': 15.2421875,\n",
       "  'activation_function': 'silu',\n",
       "  'activation_derivative_at_point': 1.000003395600431},\n",
       " 'step3_up_projection': {'operation': 'up_output = W_up @ x',\n",
       "  'bias_term': None,\n",
       "  'result_target_channel': -26.34375,\n",
       "  'has_bias': False},\n",
       " 'step4_hadamard_product': {'operation': 'hadamard_result = activated_gate ⊙ up_output (ELEMENT-WISE MULTIPLICATION)',\n",
       "  'activated_gate_component': 15.2421875,\n",
       "  'up_output_component': -26.34375,\n",
       "  'super_activation_result': -401.5,\n",
       "  'formula': 'y[:, 1710] = SILU(W_gate[1710] @ x) * (W_up[1710] @ x)',\n",
       "  'this_is_where_super_activation_is_created': True},\n",
       " 'step5_down_projection': {'operation': 'final_output = W_down @ hadamard_result',\n",
       "  'super_weight_row': 1764,\n",
       "  'super_weight_processes_super_activation': -401.5,\n",
       "  'super_weight_contribution': -262.0,\n",
       "  'has_bias': False},\n",
       " 'verification': {'computed_super_activation': -401.5,\n",
       "  'super_activation_magnitude': 401.5,\n",
       "  'super_activation_sign': 'negative',\n",
       "  'expected_vs_actual': 'Expected ~-401.5, Computed: -401.50'}}"
      ]
     },
     "execution_count": 24,
     "metadata": {},
     "output_type": "execute_result"
    }
   ],
   "source": [
    "mathematical_analysis['mathematical_breakdown']"
   ]
  },
  {
   "cell_type": "code",
   "execution_count": 10,
   "metadata": {},
   "outputs": [
    {
     "data": {
      "text/plain": [
       "{'target_channel_info': {'channel_index': 1710,\n",
       "  'description': 'Channel 1710 in intermediate space where super activation occurs'},\n",
       " 'gate_weights_analysis': {'operation': 'gate_output[1710] = W_gate[1710] @ x',\n",
       "  'weight_vector_norm': 1.39453125,\n",
       "  'max_weight': 0.317138671875,\n",
       "  'min_weight': -0.2432861328125,\n",
       "  'mean_weight': 0.0005812644958496094,\n",
       "  'std_weight': 0.0308074951171875,\n",
       "  'bias_term': None,\n",
       "  'top_5_positive_weights': [{'dimension': 803, 'weight': 0.317138671875},\n",
       "   {'dimension': 1542, 'weight': 0.266357421875},\n",
       "   {'dimension': 1930, 'weight': 0.246337890625},\n",
       "   {'dimension': 1344, 'weight': 0.2396240234375},\n",
       "   {'dimension': 517, 'weight': 0.1917724609375}],\n",
       "  'top_5_negative_weights': [{'dimension': 1981, 'weight': -0.2432861328125},\n",
       "   {'dimension': 623, 'weight': -0.2041015625},\n",
       "   {'dimension': 1916, 'weight': -0.149658203125},\n",
       "   {'dimension': 967, 'weight': -0.1490478515625},\n",
       "   {'dimension': 130, 'weight': -0.1474609375}]},\n",
       " 'up_weights_analysis': {'operation': 'up_output[1710] = W_up[1710] @ x',\n",
       "  'weight_vector_norm': 1.3056640625,\n",
       "  'max_weight': 0.275390625,\n",
       "  'min_weight': -0.09918212890625,\n",
       "  'mean_weight': -0.0004031658172607422,\n",
       "  'std_weight': 0.0288543701171875,\n",
       "  'bias_term': None,\n",
       "  'top_5_positive_weights': [{'dimension': 1764, 'weight': 0.275390625},\n",
       "   {'dimension': 1139, 'weight': 0.1201171875},\n",
       "   {'dimension': 1655, 'weight': 0.11749267578125},\n",
       "   {'dimension': 1618, 'weight': 0.10455322265625},\n",
       "   {'dimension': 1916, 'weight': 0.0968017578125}],\n",
       "  'top_5_negative_weights': [{'dimension': 517, 'weight': -0.09918212890625},\n",
       "   {'dimension': 819, 'weight': -0.0963134765625},\n",
       "   {'dimension': 803, 'weight': -0.09539794921875},\n",
       "   {'dimension': 915, 'weight': -0.089111328125},\n",
       "   {'dimension': 1735, 'weight': -0.08795166015625}]},\n",
       " 'weight_interaction_analysis': {'gate_up_correlation': -0.0711809548182152,\n",
       "  'same_sign_percentage': 49.755859375,\n",
       "  'weight_magnitude_ratio': 1.068359375,\n",
       "  'coordinated_amplification': 'NO'}}"
      ]
     },
     "execution_count": 10,
     "metadata": {},
     "output_type": "execute_result"
    }
   ],
   "source": [
    "mathematical_analysis['weight_analysis']"
   ]
  },
  {
   "cell_type": "code",
   "execution_count": 11,
   "metadata": {},
   "outputs": [
    {
     "data": {
      "text/plain": [
       "{'zero_gate_attack': {'attack_name': 'Zero Gate Projection Attack',\n",
       "  'current_output': 15.2421875,\n",
       "  'required_change': -15.2421875,\n",
       "  'modification_strategy': {'modify_dimension': 803,\n",
       "   'current_value': 1.09765625,\n",
       "   'required_new_value': -46.963929585257894,\n",
       "   'input_change': -48.061585835257894},\n",
       "  'feasibility': 'medium'},\n",
       " 'zero_up_attack': {'attack_name': 'Zero Up Projection Attack',\n",
       "  'current_output': -26.34375,\n",
       "  'required_change': 26.34375,\n",
       "  'modification_strategy': {'modify_dimension': 1764,\n",
       "   'current_value': -9.7890625,\n",
       "   'required_new_value': 85.87051196808511,\n",
       "   'input_change': 95.65957446808511},\n",
       "  'feasibility': 'medium'},\n",
       " 'activation_saturation_attack': {'attack_name': 'SiLU Saturation Attack',\n",
       "  'current_output': 15.2421875,\n",
       "  'saturation_target': -10.0,\n",
       "  'required_change': -25.2421875,\n",
       "  'expected_activation_output': -0.00045397868702434395,\n",
       "  'modification_strategy': {'modify_dimension': 803,\n",
       "   'current_value': 1.09765625,\n",
       "   'required_new_value': -78.49587723729792,\n",
       "   'input_change': -79.59353348729792}},\n",
       " 'minimal_perturbation_attack': {'attack_name': 'Minimal Perturbation Attack',\n",
       "  'chosen_strategy': 'zero_gate',\n",
       "  'perturbation_magnitude': 10.9375,\n",
       "  'relative_perturbation': 0.2418212890625,\n",
       "  'feasibility': 'medium'}}"
      ]
     },
     "execution_count": 11,
     "metadata": {},
     "output_type": "execute_result"
    }
   ],
   "source": [
    "mathematical_analysis['attack_vectors']"
   ]
  },
  {
   "cell_type": "code",
   "execution_count": 12,
   "metadata": {},
   "outputs": [
    {
     "data": {
      "text/plain": [
       "{'super_weight': SuperWeight(layer=1, coords=[1764, 1710], input=-401.50, output=-262.00),\n",
       " 'architecture_info': MLPArchitectureInfo(type=gated_mlp, activation=silu, components=['gate', 'up', 'down']),\n",
       " 'model_agnostic_analysis': True,\n",
       " 'mathematical_breakdown': {'input_analysis': {'input_vector_shape': [2048],\n",
       "   'input_magnitude': 45.21875,\n",
       "   'input_mean': 4.470348358154297e-06,\n",
       "   'input_std': 0.99951171875},\n",
       "  'step1_gate_projection': {'operation': 'gate_output = W_gate @ x',\n",
       "   'bias_term': None,\n",
       "   'result_target_channel': 15.2421875,\n",
       "   'has_bias': False},\n",
       "  'step2_activation': {'operation': 'activated_gate = SILU(gate_output)',\n",
       "   'input_to_activation': 15.2421875,\n",
       "   'activation_output_target_channel': 15.2421875,\n",
       "   'activation_function': 'silu',\n",
       "   'activation_derivative_at_point': 1.000003395600431},\n",
       "  'step3_up_projection': {'operation': 'up_output = W_up @ x',\n",
       "   'bias_term': None,\n",
       "   'result_target_channel': -26.34375,\n",
       "   'has_bias': False},\n",
       "  'step4_hadamard_product': {'operation': 'hadamard_result = activated_gate ⊙ up_output (ELEMENT-WISE MULTIPLICATION)',\n",
       "   'activated_gate_component': 15.2421875,\n",
       "   'up_output_component': -26.34375,\n",
       "   'super_activation_result': -401.5,\n",
       "   'formula': 'y[:, 1710] = SILU(W_gate[1710] @ x) * (W_up[1710] @ x)',\n",
       "   'this_is_where_super_activation_is_created': True},\n",
       "  'step5_down_projection': {'operation': 'final_output = W_down @ hadamard_result',\n",
       "   'super_weight_row': 1764,\n",
       "   'super_weight_processes_super_activation': -401.5,\n",
       "   'super_weight_contribution': -262.0,\n",
       "   'has_bias': False},\n",
       "  'verification': {'computed_super_activation': -401.5,\n",
       "   'super_activation_magnitude': 401.5,\n",
       "   'super_activation_sign': 'negative',\n",
       "   'expected_vs_actual': 'Expected ~-401.5, Computed: -401.50'}},\n",
       " 'weight_analysis': {'target_channel_info': {'channel_index': 1710,\n",
       "   'description': 'Channel 1710 in intermediate space where super activation occurs'},\n",
       "  'gate_weights_analysis': {'operation': 'gate_output[1710] = W_gate[1710] @ x',\n",
       "   'weight_vector_norm': 1.39453125,\n",
       "   'max_weight': 0.317138671875,\n",
       "   'min_weight': -0.2432861328125,\n",
       "   'mean_weight': 0.0005812644958496094,\n",
       "   'std_weight': 0.0308074951171875,\n",
       "   'bias_term': None,\n",
       "   'top_5_positive_weights': [{'dimension': 803, 'weight': 0.317138671875},\n",
       "    {'dimension': 1542, 'weight': 0.266357421875},\n",
       "    {'dimension': 1930, 'weight': 0.246337890625},\n",
       "    {'dimension': 1344, 'weight': 0.2396240234375},\n",
       "    {'dimension': 517, 'weight': 0.1917724609375}],\n",
       "   'top_5_negative_weights': [{'dimension': 1981, 'weight': -0.2432861328125},\n",
       "    {'dimension': 623, 'weight': -0.2041015625},\n",
       "    {'dimension': 1916, 'weight': -0.149658203125},\n",
       "    {'dimension': 967, 'weight': -0.1490478515625},\n",
       "    {'dimension': 130, 'weight': -0.1474609375}]},\n",
       "  'up_weights_analysis': {'operation': 'up_output[1710] = W_up[1710] @ x',\n",
       "   'weight_vector_norm': 1.3056640625,\n",
       "   'max_weight': 0.275390625,\n",
       "   'min_weight': -0.09918212890625,\n",
       "   'mean_weight': -0.0004031658172607422,\n",
       "   'std_weight': 0.0288543701171875,\n",
       "   'bias_term': None,\n",
       "   'top_5_positive_weights': [{'dimension': 1764, 'weight': 0.275390625},\n",
       "    {'dimension': 1139, 'weight': 0.1201171875},\n",
       "    {'dimension': 1655, 'weight': 0.11749267578125},\n",
       "    {'dimension': 1618, 'weight': 0.10455322265625},\n",
       "    {'dimension': 1916, 'weight': 0.0968017578125}],\n",
       "   'top_5_negative_weights': [{'dimension': 517, 'weight': -0.09918212890625},\n",
       "    {'dimension': 819, 'weight': -0.0963134765625},\n",
       "    {'dimension': 803, 'weight': -0.09539794921875},\n",
       "    {'dimension': 915, 'weight': -0.089111328125},\n",
       "    {'dimension': 1735, 'weight': -0.08795166015625}]},\n",
       "  'weight_interaction_analysis': {'gate_up_correlation': -0.0711809548182152,\n",
       "   'same_sign_percentage': 49.755859375,\n",
       "   'weight_magnitude_ratio': 1.068359375,\n",
       "   'coordinated_amplification': 'NO'}},\n",
       " 'attack_vectors': {'zero_gate_attack': {'attack_name': 'Zero Gate Projection Attack',\n",
       "   'current_output': 15.2421875,\n",
       "   'required_change': -15.2421875,\n",
       "   'modification_strategy': {'modify_dimension': 803,\n",
       "    'current_value': 1.09765625,\n",
       "    'required_new_value': -46.963929585257894,\n",
       "    'input_change': -48.061585835257894},\n",
       "   'feasibility': 'medium'},\n",
       "  'zero_up_attack': {'attack_name': 'Zero Up Projection Attack',\n",
       "   'current_output': -26.34375,\n",
       "   'required_change': 26.34375,\n",
       "   'modification_strategy': {'modify_dimension': 1764,\n",
       "    'current_value': -9.7890625,\n",
       "    'required_new_value': 85.87051196808511,\n",
       "    'input_change': 95.65957446808511},\n",
       "   'feasibility': 'medium'},\n",
       "  'activation_saturation_attack': {'attack_name': 'SiLU Saturation Attack',\n",
       "   'current_output': 15.2421875,\n",
       "   'saturation_target': -10.0,\n",
       "   'required_change': -25.2421875,\n",
       "   'expected_activation_output': -0.00045397868702434395,\n",
       "   'modification_strategy': {'modify_dimension': 803,\n",
       "    'current_value': 1.09765625,\n",
       "    'required_new_value': -78.49587723729792,\n",
       "    'input_change': -79.59353348729792}},\n",
       "  'minimal_perturbation_attack': {'attack_name': 'Minimal Perturbation Attack',\n",
       "   'chosen_strategy': 'zero_gate',\n",
       "   'perturbation_magnitude': 10.9375,\n",
       "   'relative_perturbation': 0.2418212890625,\n",
       "   'feasibility': 'medium'}},\n",
       " 'zero_activation_strategies': {'current_state': {'gate_output': 15.2421875,\n",
       "   'up_output': -26.34375,\n",
       "   'activation_output': 15.242183840268096,\n",
       "   'super_activation': -401.5362805420626},\n",
       "  'mathematical_conditions_for_zero': [{'condition': 'Gate Zeroing',\n",
       "    'equation': 'W_gate[1710] @ x_modified + b_gate = 0',\n",
       "    'result': 'SILU(0) → super_activation = 0 × up_output = 0',\n",
       "    'difficulty': 'medium'},\n",
       "   {'condition': 'Up Zeroing',\n",
       "    'equation': 'W_up[1710] @ x_modified + b_up = 0',\n",
       "    'result': 'super_activation = activation_output × 0 = 0',\n",
       "    'difficulty': 'medium'}],\n",
       "  'attack_feasibility_ranking': [{'rank': 1,\n",
       "    'strategy': 'Zero Gate Projection',\n",
       "    'reason': 'Current gate_output = 15.24, smaller magnitude than up',\n",
       "    'estimated_difficulty': 'medium'},\n",
       "   {'rank': 2,\n",
       "    'strategy': 'Zero Up Projection',\n",
       "    'reason': 'Current up_output = -26.34, larger magnitude',\n",
       "    'estimated_difficulty': 'medium'},\n",
       "   {'rank': 3,\n",
       "    'strategy': 'SILU Saturation',\n",
       "    'reason': 'Drive gate to negative values where SILU ≈ 0',\n",
       "    'estimated_difficulty': 'high'}]}}"
      ]
     },
     "execution_count": 12,
     "metadata": {},
     "output_type": "execute_result"
    }
   ],
   "source": [
    "mathematical_analysis"
   ]
  },
  {
   "cell_type": "code",
   "execution_count": 9,
   "metadata": {},
   "outputs": [
    {
     "data": {
      "text/plain": [
       "0.63232421875"
      ]
     },
     "execution_count": 9,
     "metadata": {},
     "output_type": "execute_result"
    }
   ],
   "source": [
    "sw[0].original_value"
   ]
  },
  {
   "cell_type": "code",
   "execution_count": null,
   "metadata": {},
   "outputs": [],
   "source": []
  }
 ],
 "metadata": {
  "kernelspec": {
   "display_name": "super-weights",
   "language": "python",
   "name": "python3"
  },
  "language_info": {
   "codemirror_mode": {
    "name": "ipython",
    "version": 3
   },
   "file_extension": ".py",
   "mimetype": "text/x-python",
   "name": "python",
   "nbconvert_exporter": "python",
   "pygments_lexer": "ipython3",
   "version": "3.10.17"
  }
 },
 "nbformat": 4,
 "nbformat_minor": 2
}
